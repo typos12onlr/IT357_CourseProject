{
 "cells": [
  {
   "cell_type": "code",
   "execution_count": 1,
   "id": "f9dc6db5",
   "metadata": {
    "_cell_guid": "b1076dfc-b9ad-4769-8c92-a6c4dae69d19",
    "_uuid": "8f2839f25d086af736a60e9eeb907d3b93b6e0e5",
    "execution": {
     "iopub.execute_input": "2025-04-29T16:38:23.919708Z",
     "iopub.status.busy": "2025-04-29T16:38:23.919506Z",
     "iopub.status.idle": "2025-04-29T16:38:23.923211Z",
     "shell.execute_reply": "2025-04-29T16:38:23.922709Z"
    },
    "papermill": {
     "duration": 0.011082,
     "end_time": "2025-04-29T16:38:23.924225",
     "exception": false,
     "start_time": "2025-04-29T16:38:23.913143",
     "status": "completed"
    },
    "tags": []
   },
   "outputs": [],
   "source": [
    "# # This Python 3 environment comes with many helpful analytics libraries installed\n",
    "# # It is defined by the kaggle/python Docker image: https://github.com/kaggle/docker-python\n",
    "# # For example, here's several helpful packages to load\n",
    "\n",
    "# import numpy as np # linear algebra\n",
    "# import pandas as pd # data processing, CSV file I/O (e.g. pd.read_csv)\n",
    "\n",
    "# # Input data files are available in the read-only \"../input/\" directory\n",
    "# # For example, running this (by clicking run or pressing Shift+Enter) will list all files under the input directory\n",
    "\n",
    "# import os\n",
    "# for dirname, _, filenames in os.walk('/kaggle/input'):\n",
    "#     for filename in filenames:\n",
    "#         print(os.path.join(dirname, filename))\n",
    "\n",
    "# # You can write up to 20GB to the current directory (/kaggle/working/) that gets preserved as output when you create a version using \"Save & Run All\" \n",
    "# # You can also write temporary files to /kaggle/temp/, but they won't be saved outside of the current session"
   ]
  },
  {
   "cell_type": "code",
   "execution_count": 2,
   "id": "fa7764cf",
   "metadata": {
    "execution": {
     "iopub.execute_input": "2025-04-29T16:38:23.934250Z",
     "iopub.status.busy": "2025-04-29T16:38:23.933982Z",
     "iopub.status.idle": "2025-04-29T16:38:27.926248Z",
     "shell.execute_reply": "2025-04-29T16:38:27.925495Z"
    },
    "papermill": {
     "duration": 3.998835,
     "end_time": "2025-04-29T16:38:27.927791",
     "exception": false,
     "start_time": "2025-04-29T16:38:23.928956",
     "status": "completed"
    },
    "tags": []
   },
   "outputs": [
    {
     "name": "stdout",
     "output_type": "stream",
     "text": [
      "Collecting tensorboardX\r\n",
      "  Downloading tensorboardX-2.6.2.2-py2.py3-none-any.whl.metadata (5.8 kB)\r\n",
      "Requirement already satisfied: numpy in /usr/local/lib/python3.11/dist-packages (from tensorboardX) (1.26.4)\r\n",
      "Requirement already satisfied: packaging in /usr/local/lib/python3.11/dist-packages (from tensorboardX) (24.2)\r\n",
      "Requirement already satisfied: protobuf>=3.20 in /usr/local/lib/python3.11/dist-packages (from tensorboardX) (3.20.3)\r\n",
      "Requirement already satisfied: mkl_fft in /usr/local/lib/python3.11/dist-packages (from numpy->tensorboardX) (1.3.8)\r\n",
      "Requirement already satisfied: mkl_random in /usr/local/lib/python3.11/dist-packages (from numpy->tensorboardX) (1.2.4)\r\n",
      "Requirement already satisfied: mkl_umath in /usr/local/lib/python3.11/dist-packages (from numpy->tensorboardX) (0.1.1)\r\n",
      "Requirement already satisfied: mkl in /usr/local/lib/python3.11/dist-packages (from numpy->tensorboardX) (2025.1.0)\r\n",
      "Requirement already satisfied: tbb4py in /usr/local/lib/python3.11/dist-packages (from numpy->tensorboardX) (2022.1.0)\r\n",
      "Requirement already satisfied: mkl-service in /usr/local/lib/python3.11/dist-packages (from numpy->tensorboardX) (2.4.1)\r\n",
      "Requirement already satisfied: intel-openmp<2026,>=2024 in /usr/local/lib/python3.11/dist-packages (from mkl->numpy->tensorboardX) (2024.2.0)\r\n",
      "Requirement already satisfied: tbb==2022.* in /usr/local/lib/python3.11/dist-packages (from mkl->numpy->tensorboardX) (2022.1.0)\r\n",
      "Requirement already satisfied: tcmlib==1.* in /usr/local/lib/python3.11/dist-packages (from tbb==2022.*->mkl->numpy->tensorboardX) (1.2.0)\r\n",
      "Requirement already satisfied: intel-cmplr-lib-rt in /usr/local/lib/python3.11/dist-packages (from mkl_umath->numpy->tensorboardX) (2024.2.0)\r\n",
      "Requirement already satisfied: intel-cmplr-lib-ur==2024.2.0 in /usr/local/lib/python3.11/dist-packages (from intel-openmp<2026,>=2024->mkl->numpy->tensorboardX) (2024.2.0)\r\n",
      "Downloading tensorboardX-2.6.2.2-py2.py3-none-any.whl (101 kB)\r\n",
      "\u001b[2K   \u001b[90m━━━━━━━━━━━━━━━━━━━━━━━━━━━━━━━━━━━━━━━━\u001b[0m \u001b[32m101.7/101.7 kB\u001b[0m \u001b[31m4.3 MB/s\u001b[0m eta \u001b[36m0:00:00\u001b[0m\r\n",
      "\u001b[?25hInstalling collected packages: tensorboardX\r\n",
      "Successfully installed tensorboardX-2.6.2.2\r\n"
     ]
    }
   ],
   "source": [
    "!pip install tensorboardX"
   ]
  },
  {
   "cell_type": "code",
   "execution_count": 3,
   "id": "51f03163",
   "metadata": {
    "execution": {
     "iopub.execute_input": "2025-04-29T16:38:27.938960Z",
     "iopub.status.busy": "2025-04-29T16:38:27.938745Z",
     "iopub.status.idle": "2025-04-29T16:38:48.259256Z",
     "shell.execute_reply": "2025-04-29T16:38:48.258446Z"
    },
    "papermill": {
     "duration": 20.327788,
     "end_time": "2025-04-29T16:38:48.260712",
     "exception": false,
     "start_time": "2025-04-29T16:38:27.932924",
     "status": "completed"
    },
    "tags": []
   },
   "outputs": [],
   "source": [
    "import os\n",
    "from sklearn.model_selection import train_test_split\n",
    "\n",
    "import torch\n",
    "import cv2\n",
    "import numpy as np\n",
    "from torch.utils.data import Dataset, DataLoader\n",
    "\n",
    "\n",
    "import timeit\n",
    "from datetime import datetime\n",
    "import socket\n",
    "import os\n",
    "import glob\n",
    "from tqdm import tqdm\n",
    "\n",
    "import torch\n",
    "from tensorboardX import SummaryWriter\n",
    "from torch import nn, optim\n",
    "from torch.utils.data import DataLoader\n",
    "from torch.autograd import Variable\n",
    "\n",
    "import matplotlib.pyplot as plt\n",
    "import seaborn as sns\n",
    "import timeit\n",
    "import pandas as pd\n",
    "from sklearn.metrics import (\n",
    "    accuracy_score, precision_score, recall_score, f1_score,\n",
    "    confusion_matrix, classification_report, roc_curve, auc\n",
    ")\n",
    "# from pathlib import Path"
   ]
  },
  {
   "cell_type": "code",
   "execution_count": 4,
   "id": "33768f10",
   "metadata": {
    "execution": {
     "iopub.execute_input": "2025-04-29T16:38:48.271986Z",
     "iopub.status.busy": "2025-04-29T16:38:48.271607Z",
     "iopub.status.idle": "2025-04-29T16:38:48.276245Z",
     "shell.execute_reply": "2025-04-29T16:38:48.275576Z"
    },
    "papermill": {
     "duration": 0.01117,
     "end_time": "2025-04-29T16:38:48.277286",
     "exception": false,
     "start_time": "2025-04-29T16:38:48.266116",
     "status": "completed"
    },
    "tags": []
   },
   "outputs": [],
   "source": [
    "class Path(object):\n",
    "    @staticmethod\n",
    "    def db_dir(database):\n",
    "        if database == 'ucf101':\n",
    "            # folder that contains class labels\n",
    "            root_dir = '/kaggle/input/ucf101-frames-per-video/ucf101/ucf101'\n",
    "\n",
    "            # Save preprocess data into output_dir\n",
    "            output_dir = '/kaggle/input/ucf101-frames-per-video/ucf101/ucf101'\n",
    "\n",
    "            return root_dir, output_dir\n",
    "        elif database == 'hmdb51':\n",
    "            # folder that contains class labels\n",
    "            root_dir = '/Path/to/hmdb-51'\n",
    "\n",
    "            output_dir = '/path/to/VAR/hmdb51'\n",
    "\n",
    "            return root_dir, output_dir\n",
    "        else:\n",
    "            print('Database {} not available.'.format(database))\n",
    "            raise NotImplementedError\n",
    "\n",
    "    @staticmethod\n",
    "    def model_dir():\n",
    "        return '/kaggle/working/c3d-pretrained.pth'"
   ]
  },
  {
   "cell_type": "code",
   "execution_count": 5,
   "id": "f5e3d9cb",
   "metadata": {
    "execution": {
     "iopub.execute_input": "2025-04-29T16:38:48.287930Z",
     "iopub.status.busy": "2025-04-29T16:38:48.287739Z",
     "iopub.status.idle": "2025-04-29T16:38:48.309768Z",
     "shell.execute_reply": "2025-04-29T16:38:48.309221Z"
    },
    "papermill": {
     "duration": 0.028847,
     "end_time": "2025-04-29T16:38:48.310807",
     "exception": false,
     "start_time": "2025-04-29T16:38:48.281960",
     "status": "completed"
    },
    "tags": []
   },
   "outputs": [],
   "source": [
    "class VideoDataset(Dataset):\n",
    "    r\"\"\"A Dataset for a folder of videos. Expects the directory structure to be\n",
    "    directory->[train/val/test]->[class labels]->[videos]. Initializes with a list\n",
    "    of all file names, along with an array of labels, with label being automatically\n",
    "    inferred from the respective folder names.\n",
    "\n",
    "        Args:\n",
    "            dataset (str): Name of dataset. Defaults to 'ucf101'.\n",
    "            split (str): Determines which folder of the directory the dataset will read from. Defaults to 'train'.\n",
    "            clip_len (int): Determines how many frames are there in each clip. Defaults to 16.\n",
    "            preprocess (bool): Determines whether to preprocess dataset. Default is False.\n",
    "            selected_classes (list, optional): List of class names to include. If None, all classes are used. Defaults to None.\n",
    "    \"\"\"\n",
    "\n",
    "    def __init__(self, dataset='ucf101', split='train', clip_len=16, preprocess=False, selected_classes=None):\n",
    "        self.root_dir, self.output_dir = Path.db_dir(dataset)\n",
    "        folder = os.path.join(self.output_dir, split)\n",
    "        self.clip_len = clip_len\n",
    "        self.split = split\n",
    "        self.selected_classes = selected_classes  # New parameter to filter classes\n",
    "\n",
    "        # The following three parameters are chosen as described in the paper section 4.1\n",
    "        self.resize_height = 128\n",
    "        self.resize_width = 171\n",
    "        self.crop_size = 112\n",
    "\n",
    "        if not self.check_integrity():\n",
    "            raise RuntimeError('Dataset not found or corrupted.' +\n",
    "                               ' You need to download it from official website.')\n",
    "\n",
    "        if (not self.check_preprocess()) or preprocess:\n",
    "            print('Preprocessing of {} dataset, this will take long, but it will be done only once.'.format(dataset))\n",
    "            self.preprocess()\n",
    "\n",
    "        # Obtain all the filenames of files inside all the class folders\n",
    "        # Going through each class folder one at a time\n",
    "        self.fnames, labels = [], []\n",
    "        \n",
    "        # Get all available classes in the folder\n",
    "        available_classes = sorted(os.listdir(folder))\n",
    "        \n",
    "        # If selected_classes is provided, filter the classes\n",
    "        if self.selected_classes is not None:\n",
    "            # Validate that the selected classes exist in the dataset\n",
    "            for cls in self.selected_classes:\n",
    "                if cls not in available_classes:\n",
    "                    print(f\"Warning: Selected class '{cls}' not found in the dataset.\")\n",
    "            \n",
    "            # Filter the available classes to only include selected ones\n",
    "            class_list = [cls for cls in available_classes if cls in self.selected_classes]\n",
    "            \n",
    "            if len(class_list) == 0:\n",
    "                raise ValueError(\"None of the selected classes were found in the dataset.\")\n",
    "            \n",
    "            print(f\"Using {len(class_list)} selected classes out of {len(available_classes)} available classes.\")\n",
    "        else:\n",
    "            class_list = available_classes\n",
    "        \n",
    "        # Now iterate only through the filtered class list\n",
    "        for label in class_list:\n",
    "            for fname in os.listdir(os.path.join(folder, label)):\n",
    "                self.fnames.append(os.path.join(folder, label, fname))\n",
    "                labels.append(label)\n",
    "\n",
    "        assert len(labels) == len(self.fnames)\n",
    "        print('Number of {} videos: {:d}'.format(split, len(self.fnames)))\n",
    "\n",
    "        # Prepare a mapping between the label names (strings) and indices (ints)\n",
    "        self.label2index = {label: index for index, label in enumerate(sorted(set(labels)))}\n",
    "        # Convert the list of label names into an array of label indices\n",
    "        self.label_array = np.array([self.label2index[label] for label in labels], dtype=int)\n",
    "\n",
    "        # if dataset == \"ucf101\":\n",
    "        #     # Save the mapping for the selected classes (or all classes if no selection)\n",
    "        #     labels_path = '/kaggle/input/ucf101-frames-per-video/ucf_labels.txt'\n",
    "        #     out_path = labels_path.split(\"/\")[-1]\n",
    "        #     out_path = os.path.join(\"kaggle/working\", out_path)\n",
    "        #     print(out_path)\n",
    "        #     if not os.path.exists(labels_path) or self.selected_classes is not None:\n",
    "        #         with open(out_path, 'w') as f:\n",
    "        #             for id, label in enumerate(sorted(self.label2index)):\n",
    "        #                 f.writelines(str(id+1) + ' ' + label + '\\n')\n",
    "\n",
    "        # elif dataset == 'hmdb51':\n",
    "        #     if not os.path.exists('dataloaders/hmdb_labels.txt'):\n",
    "        #         with open('dataloaders/hmdb_labels.txt', 'w') as f:\n",
    "        #             for id, label in enumerate(sorted(self.label2index)):\n",
    "        #                 f.writelines(str(id+1) + ' ' + label + '\\n')\n",
    "\n",
    "    # Rest of the methods remain the same\n",
    "    def __len__(self):\n",
    "        return len(self.fnames)\n",
    "\n",
    "    def __getitem__(self, index):\n",
    "        # Loading and preprocessing.\n",
    "        buffer = self.load_frames(self.fnames[index])  # dtype is float32, values 0-255\n",
    "    \n",
    "        # Normalize to [0, 1]\n",
    "        buffer /= 255.0\n",
    "    \n",
    "        buffer = self.crop(buffer, self.clip_len, self.crop_size)\n",
    "        labels = np.array(self.label_array[index])\n",
    "    \n",
    "        if self.split == 'test':\n",
    "            # Perform data augmentation\n",
    "            buffer = self.randomflip(buffer)\n",
    "    \n",
    "        # buffer = self.normalize(buffer)  # <- avoid custom normalization for now\n",
    "        buffer = self.to_tensor(buffer)  # likely converts from HWC to CHW and swaps axes\n",
    "    \n",
    "        return torch.from_numpy(buffer), torch.from_numpy(labels)\n",
    "\n",
    "\n",
    "    def check_integrity(self):\n",
    "        if not os.path.exists(self.root_dir):\n",
    "            return False\n",
    "        else:\n",
    "            return True\n",
    "\n",
    "    def check_preprocess(self):\n",
    "        # TODO: Check image size in output_dir\n",
    "        if not os.path.exists(self.output_dir):\n",
    "            return False\n",
    "        elif not os.path.exists(os.path.join(self.output_dir, 'train')):\n",
    "            return False\n",
    "\n",
    "        for ii, video_class in enumerate(os.listdir(os.path.join(self.output_dir, 'train'))):\n",
    "            for video in os.listdir(os.path.join(self.output_dir, 'train', video_class)):\n",
    "                video_name = os.path.join(os.path.join(self.output_dir, 'train', video_class, video),\n",
    "                                    sorted(os.listdir(os.path.join(self.output_dir, 'train', video_class, video)))[0])\n",
    "                image = cv2.imread(video_name)\n",
    "                if np.shape(image)[0] != 128 or np.shape(image)[1] != 171:\n",
    "                    return False\n",
    "                else:\n",
    "                    break\n",
    "\n",
    "            if ii == 10:\n",
    "                break\n",
    "\n",
    "        return True\n",
    "\n",
    "    def preprocess(self):\n",
    "        if not os.path.exists(self.output_dir):\n",
    "            os.mkdir(self.output_dir)\n",
    "            os.mkdir(os.path.join(self.output_dir, 'train'))\n",
    "            os.mkdir(os.path.join(self.output_dir, 'val'))\n",
    "            os.mkdir(os.path.join(self.output_dir, 'test'))\n",
    "\n",
    "        # Split train/val/test sets\n",
    "        for file in os.listdir(self.root_dir):\n",
    "            # If selected_classes is provided, skip classes not in the list\n",
    "            if self.selected_classes is not None and file not in self.selected_classes:\n",
    "                continue\n",
    "                \n",
    "            file_path = os.path.join(self.root_dir, file)\n",
    "            video_files = [name for name in os.listdir(file_path)]\n",
    "\n",
    "            train_and_valid, test = train_test_split(video_files, test_size=0.2, random_state=42)\n",
    "            train, val = train_test_split(train_and_valid, test_size=0.2, random_state=42)\n",
    "\n",
    "            train_dir = os.path.join(self.output_dir, 'train', file)\n",
    "            val_dir = os.path.join(self.output_dir, 'val', file)\n",
    "            test_dir = os.path.join(self.output_dir, 'test', file)\n",
    "\n",
    "            if not os.path.exists(train_dir):\n",
    "                os.mkdir(train_dir)\n",
    "            if not os.path.exists(val_dir):\n",
    "                os.mkdir(val_dir)\n",
    "            if not os.path.exists(test_dir):\n",
    "                os.mkdir(test_dir)\n",
    "\n",
    "            for video in train:\n",
    "                self.process_video(video, file, train_dir)\n",
    "\n",
    "            for video in val:\n",
    "                self.process_video(video, file, val_dir)\n",
    "\n",
    "            for video in test:\n",
    "                self.process_video(video, file, test_dir)\n",
    "\n",
    "        print('Preprocessing finished.')\n",
    "\n",
    "    def process_video(self, video, action_name, save_dir):\n",
    "        # Initialize a VideoCapture object to read video data into a numpy array\n",
    "        video_filename = video.split('.')[0]\n",
    "        if not os.path.exists(os.path.join(save_dir, video_filename)):\n",
    "            os.mkdir(os.path.join(save_dir, video_filename))\n",
    "\n",
    "        capture = cv2.VideoCapture(os.path.join(self.root_dir, action_name, video))\n",
    "\n",
    "        frame_count = int(capture.get(cv2.CAP_PROP_FRAME_COUNT))\n",
    "        frame_width = int(capture.get(cv2.CAP_PROP_FRAME_WIDTH))\n",
    "        frame_height = int(capture.get(cv2.CAP_PROP_FRAME_HEIGHT))\n",
    "\n",
    "        # Make sure splited video has at least 16 frames\n",
    "        EXTRACT_FREQUENCY = 4\n",
    "        if frame_count // EXTRACT_FREQUENCY <= 16:\n",
    "            EXTRACT_FREQUENCY -= 1\n",
    "            if frame_count // EXTRACT_FREQUENCY <= 16:\n",
    "                EXTRACT_FREQUENCY -= 1\n",
    "                if frame_count // EXTRACT_FREQUENCY <= 16:\n",
    "                    EXTRACT_FREQUENCY -= 1\n",
    "\n",
    "        count = 0\n",
    "        i = 0\n",
    "        retaining = True\n",
    "\n",
    "        while (count < frame_count and retaining):\n",
    "            retaining, frame = capture.read()\n",
    "            if frame is None:\n",
    "                continue\n",
    "\n",
    "            if count % EXTRACT_FREQUENCY == 0:\n",
    "                if (frame_height != self.resize_height) or (frame_width != self.resize_width):\n",
    "                    frame = cv2.resize(frame, (self.resize_width, self.resize_height))\n",
    "                cv2.imwrite(filename=os.path.join(save_dir, video_filename, '0000{}.jpg'.format(str(i))), img=frame)\n",
    "                i += 1\n",
    "            count += 1\n",
    "\n",
    "        # Release the VideoCapture once it is no longer needed\n",
    "        capture.release()\n",
    "\n",
    "    def randomflip(self, buffer):\n",
    "        \"\"\"Horizontally flip the given image and ground truth randomly with a probability of 0.5.\"\"\"\n",
    "\n",
    "        if np.random.random() < 0.5:\n",
    "            for i, frame in enumerate(buffer):\n",
    "                frame = cv2.flip(buffer[i], flipCode=1)\n",
    "                buffer[i] = cv2.flip(frame, flipCode=1)\n",
    "\n",
    "        return buffer\n",
    "\n",
    "\n",
    "    def normalize(self, buffer):\n",
    "        for i, frame in enumerate(buffer):\n",
    "            frame -= np.array([[[90.0, 98.0, 102.0]]])\n",
    "            buffer[i] = frame\n",
    "\n",
    "        return buffer\n",
    "\n",
    "    def to_tensor(self, buffer):\n",
    "        return buffer.transpose((3, 0, 1, 2))\n",
    "\n",
    "    def load_frames(self, file_dir):\n",
    "        frames = sorted([os.path.join(file_dir, img) for img in os.listdir(file_dir)])\n",
    "        frame_count = len(frames)\n",
    "        buffer = np.empty((frame_count, self.resize_height, self.resize_width, 3), np.dtype('float32'))\n",
    "        for i, frame_name in enumerate(frames):\n",
    "            frame = np.array(cv2.imread(frame_name)).astype(np.float64)\n",
    "            buffer[i] = frame\n",
    "\n",
    "        return buffer\n",
    "\n",
    "    def crop(self, buffer, clip_len, crop_size):\n",
    "        # randomly select time index for temporal jittering\n",
    "        time_index = np.random.randint(buffer.shape[0] - clip_len)\n",
    "\n",
    "        # Randomly select start indices in order to crop the video\n",
    "        height_index = np.random.randint(buffer.shape[1] - crop_size)\n",
    "        width_index = np.random.randint(buffer.shape[2] - crop_size)\n",
    "\n",
    "        # Crop and jitter the video using indexing. The spatial crop is performed on\n",
    "        # the entire array, so each frame is cropped in the same location. The temporal\n",
    "        # jitter takes place via the selection of consecutive frames\n",
    "        buffer = buffer[time_index:time_index + clip_len,\n",
    "                 height_index:height_index + crop_size,\n",
    "                 width_index:width_index + crop_size, :]\n",
    "\n",
    "        return buffer"
   ]
  },
  {
   "cell_type": "code",
   "execution_count": 6,
   "id": "dc4b74d9",
   "metadata": {
    "execution": {
     "iopub.execute_input": "2025-04-29T16:38:48.320857Z",
     "iopub.status.busy": "2025-04-29T16:38:48.320650Z",
     "iopub.status.idle": "2025-04-29T16:38:48.668032Z",
     "shell.execute_reply": "2025-04-29T16:38:48.667206Z"
    },
    "papermill": {
     "duration": 0.353778,
     "end_time": "2025-04-29T16:38:48.669298",
     "exception": false,
     "start_time": "2025-04-29T16:38:48.315520",
     "status": "completed"
    },
    "tags": []
   },
   "outputs": [
    {
     "name": "stdout",
     "output_type": "stream",
     "text": [
      "Using 10 selected classes out of 101 available classes.\n",
      "Number of train videos: 802\n"
     ]
    }
   ],
   "source": [
    "# Define your 10 classes from UCF-101 \n",
    "selected_classes = [\n",
    "    'PlayingPiano',\n",
    "    'TaiChi',\n",
    "    'Swing',\n",
    "    'HorseRace',\n",
    "    'PlayingTabla',\n",
    "    'Mixing',\n",
    "    'Fencing',\n",
    "    'Basketball',\n",
    "    'Punch',\n",
    "    'Diving'\n",
    "]\n",
    "\n",
    "# Initialize dataset with only the selected classes\n",
    "train_dataset = VideoDataset(\n",
    "    dataset='ucf101',\n",
    "    split='train',\n",
    "    clip_len=16,\n",
    "    preprocess=False,  # Set to True if you need preprocessing\n",
    "    selected_classes=selected_classes  # Pass the list of 10 classes you want to use\n",
    ")"
   ]
  },
  {
   "cell_type": "code",
   "execution_count": 7,
   "id": "f7b004a0",
   "metadata": {
    "execution": {
     "iopub.execute_input": "2025-04-29T16:38:48.680151Z",
     "iopub.status.busy": "2025-04-29T16:38:48.679756Z",
     "iopub.status.idle": "2025-04-29T16:38:48.925635Z",
     "shell.execute_reply": "2025-04-29T16:38:48.924710Z"
    },
    "papermill": {
     "duration": 0.252527,
     "end_time": "2025-04-29T16:38:48.926869",
     "exception": false,
     "start_time": "2025-04-29T16:38:48.674342",
     "status": "completed"
    },
    "tags": []
   },
   "outputs": [
    {
     "name": "stdout",
     "output_type": "stream",
     "text": [
      "Using 10 selected classes out of 101 available classes.\n",
      "Number of val videos: 204\n",
      "Using 10 selected classes out of 101 available classes.\n",
      "Number of test videos: 256\n"
     ]
    }
   ],
   "source": [
    "# You can also create validation and test datasets with the same class filtering\n",
    "val_dataset = VideoDataset(\n",
    "    dataset='ucf101',\n",
    "    split='val',\n",
    "    clip_len=16,\n",
    "    preprocess=False,\n",
    "    selected_classes=selected_classes\n",
    ")\n",
    "\n",
    "test_dataset = VideoDataset(\n",
    "    dataset='ucf101',\n",
    "    split='test',\n",
    "    clip_len=16,\n",
    "    preprocess=False,\n",
    "    selected_classes=selected_classes\n",
    ")\n",
    "\n",
    "# Create DataLoaders as usual\n",
    "train_dataloader = DataLoader(\n",
    "    train_dataset,\n",
    "    batch_size=32,\n",
    "    shuffle=True,\n",
    "    num_workers=4\n",
    ")"
   ]
  },
  {
   "cell_type": "code",
   "execution_count": 8,
   "id": "9358dc33",
   "metadata": {
    "execution": {
     "iopub.execute_input": "2025-04-29T16:38:48.938041Z",
     "iopub.status.busy": "2025-04-29T16:38:48.937776Z",
     "iopub.status.idle": "2025-04-29T16:39:09.787193Z",
     "shell.execute_reply": "2025-04-29T16:39:09.786311Z"
    },
    "papermill": {
     "duration": 20.856345,
     "end_time": "2025-04-29T16:39:09.788491",
     "exception": false,
     "start_time": "2025-04-29T16:38:48.932146",
     "status": "completed"
    },
    "tags": []
   },
   "outputs": [
    {
     "data": {
      "text/plain": [
       "2"
      ]
     },
     "execution_count": 8,
     "metadata": {},
     "output_type": "execute_result"
    }
   ],
   "source": [
    "data = next(iter(train_dataloader))\n",
    "len(data)"
   ]
  },
  {
   "cell_type": "code",
   "execution_count": 9,
   "id": "d5d21a8f",
   "metadata": {
    "execution": {
     "iopub.execute_input": "2025-04-29T16:39:09.799942Z",
     "iopub.status.busy": "2025-04-29T16:39:09.799702Z",
     "iopub.status.idle": "2025-04-29T16:39:09.805061Z",
     "shell.execute_reply": "2025-04-29T16:39:09.804337Z"
    },
    "papermill": {
     "duration": 0.01221,
     "end_time": "2025-04-29T16:39:09.806088",
     "exception": false,
     "start_time": "2025-04-29T16:39:09.793878",
     "status": "completed"
    },
    "tags": []
   },
   "outputs": [
    {
     "data": {
      "text/plain": [
       "(torch.Tensor,\n",
       " torch.Tensor,\n",
       " torch.Size([32, 3, 16, 112, 112]),\n",
       " torch.Size([32]))"
      ]
     },
     "execution_count": 9,
     "metadata": {},
     "output_type": "execute_result"
    }
   ],
   "source": [
    "type(data[0]), type(data[1]), data[0].shape, data[1].shape"
   ]
  },
  {
   "cell_type": "code",
   "execution_count": 10,
   "id": "0802ba44",
   "metadata": {
    "execution": {
     "iopub.execute_input": "2025-04-29T16:39:09.816815Z",
     "iopub.status.busy": "2025-04-29T16:39:09.816440Z",
     "iopub.status.idle": "2025-04-29T16:39:10.544061Z",
     "shell.execute_reply": "2025-04-29T16:39:10.543270Z"
    },
    "papermill": {
     "duration": 0.734278,
     "end_time": "2025-04-29T16:39:10.545343",
     "exception": false,
     "start_time": "2025-04-29T16:39:09.811065",
     "status": "completed"
    },
    "tags": []
   },
   "outputs": [
    {
     "name": "stdout",
     "output_type": "stream",
     "text": [
      "Using 10 selected classes out of 101 available classes.\n",
      "Number of train videos: 802\n",
      "Video shape: torch.Size([1, 3, 16, 112, 112])\n",
      "Label: tensor([8])\n",
      "<class 'torch.Tensor'> torch.Size([1, 3, 16, 112, 112]) torch.float32\n",
      "tensor(1.) tensor(0.)\n"
     ]
    },
    {
     "data": {
      "image/png": "[encoded data removed]",
      "text/plain": [
       "<Figure size 640x480 with 1 Axes>"
      ]
     },
     "metadata": {},
     "output_type": "display_data"
    }
   ],
   "source": [
    "from torch.utils.data import DataLoader\n",
    "import matplotlib.pyplot as plt\n",
    "\n",
    "# Instantiate dataset\n",
    "dataset = VideoDataset(dataset='ucf101', split='train', clip_len=16, preprocess=False, selected_classes = selected_classes)\n",
    "\n",
    "# Create DataLoader\n",
    "loader = DataLoader(dataset, batch_size=1, shuffle=True)\n",
    "\n",
    "# Sample one batch\n",
    "for batch in loader:\n",
    "    videos, labels = batch\n",
    "    print(\"Video shape:\", videos.shape)  # Should be [1, 3, 16, 112, 112]\n",
    "    print(\"Label:\", labels)\n",
    "\n",
    "    # Visualize the first frame in the clip (after permuting for plotting)\n",
    "    video = videos[0].permute(1, 2, 3, 0).numpy()  # [T, H, W, C]\n",
    "    print(type(videos), videos.shape, videos.dtype)\n",
    "    print(videos.max(), videos.min())\n",
    "    # Renormalize from [0, 1] → [0, 255] for display\n",
    "    video = (video * 255.0).clip(0, 255).astype(np.uint8)\n",
    "    \n",
    "    frame = video[0].astype(np.uint8)\n",
    "\n",
    "    plt.imshow(frame)\n",
    "    plt.title(f\"Label: {labels.item()}\")\n",
    "    plt.axis(\"off\")\n",
    "    plt.show()\n",
    "    break"
   ]
  },
  {
   "cell_type": "code",
   "execution_count": 11,
   "id": "06006d4d",
   "metadata": {
    "execution": {
     "iopub.execute_input": "2025-04-29T16:39:10.558808Z",
     "iopub.status.busy": "2025-04-29T16:39:10.558565Z",
     "iopub.status.idle": "2025-04-29T16:39:10.574879Z",
     "shell.execute_reply": "2025-04-29T16:39:10.574169Z"
    },
    "papermill": {
     "duration": 0.023944,
     "end_time": "2025-04-29T16:39:10.575992",
     "exception": false,
     "start_time": "2025-04-29T16:39:10.552048",
     "status": "completed"
    },
    "tags": []
   },
   "outputs": [],
   "source": [
    "import torch\n",
    "import torch.nn as nn\n",
    "\n",
    "class C3D(nn.Module):\n",
    "    \"\"\"\n",
    "    The C3D network.\n",
    "    \"\"\"\n",
    "\n",
    "    def __init__(self, num_classes, pretrained=False):\n",
    "        super(C3D, self).__init__()\n",
    "\n",
    "        self.conv1 = nn.Conv3d(3, 64, kernel_size=(3, 3, 3), padding=(1, 1, 1))\n",
    "        self.pool1 = nn.MaxPool3d(kernel_size=(1, 2, 2), stride=(1, 2, 2))\n",
    "\n",
    "        self.conv2 = nn.Conv3d(64, 128, kernel_size=(3, 3, 3), padding=(1, 1, 1))\n",
    "        self.pool2 = nn.MaxPool3d(kernel_size=(2, 2, 2), stride=(2, 2, 2))\n",
    "\n",
    "        self.conv3a = nn.Conv3d(128, 256, kernel_size=(3, 3, 3), padding=(1, 1, 1))\n",
    "        self.conv3b = nn.Conv3d(256, 256, kernel_size=(3, 3, 3), padding=(1, 1, 1))\n",
    "        self.pool3 = nn.MaxPool3d(kernel_size=(2, 2, 2), stride=(2, 2, 2))\n",
    "\n",
    "        self.conv4a = nn.Conv3d(256, 512, kernel_size=(3, 3, 3), padding=(1, 1, 1))\n",
    "        self.conv4b = nn.Conv3d(512, 512, kernel_size=(3, 3, 3), padding=(1, 1, 1))\n",
    "        self.pool4 = nn.MaxPool3d(kernel_size=(2, 2, 2), stride=(2, 2, 2))\n",
    "\n",
    "        self.conv5a = nn.Conv3d(512, 512, kernel_size=(3, 3, 3), padding=(1, 1, 1))\n",
    "        self.conv5b = nn.Conv3d(512, 512, kernel_size=(3, 3, 3), padding=(1, 1, 1))\n",
    "        self.pool5 = nn.MaxPool3d(kernel_size=(2, 2, 2), stride=(2, 2, 2), padding=(0, 1, 1))\n",
    "\n",
    "        self.fc6 = nn.Linear(8192, 4096)\n",
    "        self.fc7 = nn.Linear(4096, 4096)\n",
    "        self.fc8 = nn.Linear(4096, num_classes)\n",
    "\n",
    "        self.dropout = nn.Dropout(p=0.5)\n",
    "\n",
    "        self.relu = nn.ReLU()\n",
    "\n",
    "        self.__init_weight()\n",
    "\n",
    "        if pretrained:\n",
    "            self.__load_pretrained_weights()\n",
    "\n",
    "    def forward(self, x):\n",
    "\n",
    "        x = self.relu(self.conv1(x))\n",
    "        x = self.pool1(x)\n",
    "\n",
    "        x = self.relu(self.conv2(x))\n",
    "        x = self.pool2(x)\n",
    "\n",
    "        x = self.relu(self.conv3a(x))\n",
    "        x = self.relu(self.conv3b(x))\n",
    "        x = self.pool3(x)\n",
    "\n",
    "        x = self.relu(self.conv4a(x))\n",
    "        x = self.relu(self.conv4b(x))\n",
    "        x = self.pool4(x)\n",
    "\n",
    "        x = self.relu(self.conv5a(x))\n",
    "        x = self.relu(self.conv5b(x))\n",
    "        x = self.pool5(x)\n",
    "\n",
    "        x = x.view(-1, 8192)\n",
    "        x = self.relu(self.fc6(x))\n",
    "        x = self.dropout(x)\n",
    "        x = self.relu(self.fc7(x))\n",
    "        x = self.dropout(x)\n",
    "\n",
    "        logits = self.fc8(x)\n",
    "\n",
    "        return logits\n",
    "\n",
    "    def __load_pretrained_weights(self):\n",
    "        \"\"\"Initialiaze network.\"\"\"\n",
    "        corresp_name = {\n",
    "                        # Conv1\n",
    "                        \"features.0.weight\": \"conv1.weight\",\n",
    "                        \"features.0.bias\": \"conv1.bias\",\n",
    "                        # Conv2\n",
    "                        \"features.3.weight\": \"conv2.weight\",\n",
    "                        \"features.3.bias\": \"conv2.bias\",\n",
    "                        # Conv3a\n",
    "                        \"features.6.weight\": \"conv3a.weight\",\n",
    "                        \"features.6.bias\": \"conv3a.bias\",\n",
    "                        # Conv3b\n",
    "                        \"features.8.weight\": \"conv3b.weight\",\n",
    "                        \"features.8.bias\": \"conv3b.bias\",\n",
    "                        # Conv4a\n",
    "                        \"features.11.weight\": \"conv4a.weight\",\n",
    "                        \"features.11.bias\": \"conv4a.bias\",\n",
    "                        # Conv4b\n",
    "                        \"features.13.weight\": \"conv4b.weight\",\n",
    "                        \"features.13.bias\": \"conv4b.bias\",\n",
    "                        # Conv5a\n",
    "                        \"features.16.weight\": \"conv5a.weight\",\n",
    "                        \"features.16.bias\": \"conv5a.bias\",\n",
    "                         # Conv5b\n",
    "                        \"features.18.weight\": \"conv5b.weight\",\n",
    "                        \"features.18.bias\": \"conv5b.bias\",\n",
    "                        # fc6\n",
    "                        \"classifier.0.weight\": \"fc6.weight\",\n",
    "                        \"classifier.0.bias\": \"fc6.bias\",\n",
    "                        # fc7\n",
    "                        \"classifier.3.weight\": \"fc7.weight\",\n",
    "                        \"classifier.3.bias\": \"fc7.bias\",\n",
    "                        }\n",
    "\n",
    "        p_dict = torch.load(Path.model_dir())\n",
    "        s_dict = self.state_dict()\n",
    "        for name in p_dict:\n",
    "            if name not in corresp_name:\n",
    "                continue\n",
    "            s_dict[corresp_name[name]] = p_dict[name]\n",
    "        self.load_state_dict(s_dict)\n",
    "\n",
    "    def __init_weight(self):\n",
    "        for m in self.modules():\n",
    "            if isinstance(m, nn.Conv3d):\n",
    "                # n = m.kernel_size[0] * m.kernel_size[1] * m.out_channels\n",
    "                # m.weight.data.normal_(0, math.sqrt(2. / n))\n",
    "                torch.nn.init.kaiming_normal_(m.weight)\n",
    "            elif isinstance(m, nn.BatchNorm3d):\n",
    "                m.weight.data.fill_(1)\n",
    "                m.bias.data.zero_()\n",
    "\n",
    "def get_1x_lr_params(model):\n",
    "    \"\"\"\n",
    "    This generator returns all the parameters for conv and two fc layers of the net.\n",
    "    \"\"\"\n",
    "    b = [model.conv1, model.conv2, model.conv3a, model.conv3b, model.conv4a, model.conv4b,\n",
    "         model.conv5a, model.conv5b, model.fc6, model.fc7]\n",
    "    for i in range(len(b)):\n",
    "        for k in b[i].parameters():\n",
    "            if k.requires_grad:\n",
    "                yield k\n",
    "\n",
    "def get_10x_lr_params(model):\n",
    "    \"\"\"\n",
    "    This generator returns all the parameters for the last fc layer of the net.\n",
    "    \"\"\"\n",
    "    b = [model.fc8]\n",
    "    for j in range(len(b)):\n",
    "        for k in b[j].parameters():\n",
    "            if k.requires_grad:\n",
    "                yield k"
   ]
  },
  {
   "cell_type": "code",
   "execution_count": 12,
   "id": "0a9dbb2a",
   "metadata": {
    "execution": {
     "iopub.execute_input": "2025-04-29T16:39:10.588670Z",
     "iopub.status.busy": "2025-04-29T16:39:10.588460Z",
     "iopub.status.idle": "2025-04-29T16:39:10.601490Z",
     "shell.execute_reply": "2025-04-29T16:39:10.600954Z"
    },
    "papermill": {
     "duration": 0.02077,
     "end_time": "2025-04-29T16:39:10.602548",
     "exception": false,
     "start_time": "2025-04-29T16:39:10.581778",
     "status": "completed"
    },
    "tags": []
   },
   "outputs": [],
   "source": [
    "import torch\n",
    "import torch.nn as nn\n",
    "import math\n",
    "\n",
    "class PositionalEncoding(nn.Module):\n",
    "    def __init__(self, d_model, max_len=16):\n",
    "        super(PositionalEncoding, self).__init__()\n",
    "        \n",
    "        # Create positional encoding\n",
    "        pe = torch.zeros(max_len, d_model)\n",
    "        position = torch.arange(0, max_len, dtype=torch.float).unsqueeze(1)\n",
    "        div_term = torch.exp(torch.arange(0, d_model, 2).float() * (-math.log(10000.0) / d_model))\n",
    "        \n",
    "        pe[:, 0::2] = torch.sin(position * div_term)\n",
    "        pe[:, 1::2] = torch.cos(position * div_term)\n",
    "        pe = pe.unsqueeze(0)\n",
    "        \n",
    "        # Register as buffer (not a parameter but should be saved and restored)\n",
    "        self.register_buffer('pe', pe)\n",
    "        \n",
    "    def forward(self, x):\n",
    "        # Add positional encoding to input\n",
    "        # x: [batch_size, seq_len, feature_dim]\n",
    "        return x + self.pe[:, :x.size(1), :]\n",
    "\n",
    "class CNNTransformer(nn.Module):\n",
    "    def __init__(self, num_classes, pretrained=False):\n",
    "        super(CNNTransformer, self).__init__()\n",
    "        \n",
    "        # CNN for spatial feature extraction (frame by frame)\n",
    "        self.cnn_layers = nn.Sequential(\n",
    "            nn.Conv3d(3, 64, kernel_size=(1, 3, 3), padding=(0, 1, 1)),\n",
    "            nn.ReLU(inplace=True),\n",
    "            nn.BatchNorm3d(64),\n",
    "            nn.MaxPool3d(kernel_size=(1, 2, 2), stride=(1, 2, 2)),\n",
    "            \n",
    "            nn.Conv3d(64, 128, kernel_size=(1, 3, 3), padding=(0, 1, 1)),\n",
    "            nn.ReLU(inplace=True),\n",
    "            nn.BatchNorm3d(128),\n",
    "            nn.MaxPool3d(kernel_size=(1, 2, 2), stride=(1, 2, 2)),\n",
    "            \n",
    "            nn.Conv3d(128, 256, kernel_size=(1, 3, 3), padding=(0, 1, 1)),\n",
    "            nn.ReLU(inplace=True),\n",
    "            nn.BatchNorm3d(256),\n",
    "            nn.Conv3d(256, 256, kernel_size=(1, 3, 3), padding=(0, 1, 1)),\n",
    "            nn.ReLU(inplace=True),\n",
    "            nn.BatchNorm3d(256),\n",
    "            nn.MaxPool3d(kernel_size=(1, 2, 2), stride=(1, 2, 2)),\n",
    "            \n",
    "            nn.Conv3d(256, 512, kernel_size=(1, 3, 3), padding=(0, 1, 1)),\n",
    "            nn.ReLU(inplace=True),\n",
    "            nn.BatchNorm3d(512),\n",
    "            nn.Conv3d(512, 512, kernel_size=(1, 3, 3), padding=(0, 1, 1)),\n",
    "            nn.ReLU(inplace=True),\n",
    "            nn.BatchNorm3d(512),\n",
    "            nn.MaxPool3d(kernel_size=(1, 2, 2), stride=(1, 2, 2))\n",
    "        )\n",
    "        \n",
    "        # Feature dimension after CNN\n",
    "        self.feature_dim = 512 * 7 * 7\n",
    "        \n",
    "        # Project features to transformer dimension\n",
    "        self.embedding_dim = 512\n",
    "        self.feature_projection = nn.Linear(self.feature_dim, self.embedding_dim)\n",
    "        \n",
    "        # Positional encoding\n",
    "        self.positional_encoding = PositionalEncoding(self.embedding_dim)\n",
    "        \n",
    "        # Transformer encoder\n",
    "        transformer_layer = nn.TransformerEncoderLayer(\n",
    "            d_model=self.embedding_dim,\n",
    "            nhead=8,\n",
    "            dim_feedforward=1024,\n",
    "            dropout=0.1,\n",
    "            activation='relu',\n",
    "            batch_first=True\n",
    "        )\n",
    "        self.transformer_encoder = nn.TransformerEncoder(transformer_layer, num_layers=8)\n",
    "        \n",
    "        # Classification head\n",
    "        self.classifier = nn.Sequential(\n",
    "            nn.Linear(self.embedding_dim, 1024),\n",
    "            nn.ReLU(inplace=True),\n",
    "            nn.Dropout(0.5),\n",
    "            nn.Linear(1024, num_classes)\n",
    "        )\n",
    "        \n",
    "        self._initialize_weights()\n",
    "        \n",
    "    def forward(self, x):\n",
    "        batch_size, c, t, h, w = x.shape\n",
    "        \n",
    "        # Extract spatial features with CNN\n",
    "        features = self.cnn_layers(x)\n",
    "        \n",
    "        # Reshape for transformer: [batch, channels, time, height, width] -> [batch, time, features]\n",
    "        features = features.permute(0, 2, 1, 3, 4)  # [batch, time, channels, height, width]\n",
    "        features = features.reshape(batch_size, t, -1)  # [batch, time, flattened_features]\n",
    "        \n",
    "        # Project to embedding dimension\n",
    "        features = self.feature_projection(features)  # [batch, time, embedding_dim]\n",
    "        \n",
    "        # Add positional encoding\n",
    "        features = self.positional_encoding(features)\n",
    "        \n",
    "        # Apply transformer encoder\n",
    "        features = self.transformer_encoder(features)\n",
    "        \n",
    "        # Global temporal pooling (use [CLS] token or mean)\n",
    "        features = torch.mean(features, dim=1)  # [batch, embedding_dim]\n",
    "        \n",
    "        # Classification\n",
    "        output = self.classifier(features)\n",
    "        \n",
    "        return output\n",
    "    \n",
    "    def _initialize_weights(self):\n",
    "        for m in self.modules():\n",
    "            if isinstance(m, nn.Conv3d):\n",
    "                nn.init.kaiming_normal_(m.weight, mode='fan_out', nonlinearity='relu')\n",
    "                if m.bias is not None:\n",
    "                    nn.init.constant_(m.bias, 0)\n",
    "            elif isinstance(m, nn.BatchNorm3d):\n",
    "                nn.init.constant_(m.weight, 1)\n",
    "                nn.init.constant_(m.bias, 0)\n",
    "            elif isinstance(m, nn.Linear):\n",
    "                nn.init.normal_(m.weight, 0, 0.01)\n",
    "                nn.init.constant_(m.bias, 0)"
   ]
  },
  {
   "cell_type": "code",
   "execution_count": 13,
   "id": "0945dd46",
   "metadata": {
    "execution": {
     "iopub.execute_input": "2025-04-29T16:39:10.614702Z",
     "iopub.status.busy": "2025-04-29T16:39:10.614499Z",
     "iopub.status.idle": "2025-04-29T16:39:11.721720Z",
     "shell.execute_reply": "2025-04-29T16:39:11.720786Z"
    },
    "papermill": {
     "duration": 1.114538,
     "end_time": "2025-04-29T16:39:11.722896",
     "exception": false,
     "start_time": "2025-04-29T16:39:10.608358",
     "status": "completed"
    },
    "tags": []
   },
   "outputs": [
    {
     "name": "stdout",
     "output_type": "stream",
     "text": [
      "torch.Size([1, 10])\n"
     ]
    }
   ],
   "source": [
    "inputs = torch.rand(1, 3, 16, 112, 112)\n",
    "net = CNNTransformer(num_classes=10, pretrained=False)\n",
    "\n",
    "outputs = net.forward(inputs)\n",
    "print(outputs.size())"
   ]
  },
  {
   "cell_type": "code",
   "execution_count": 14,
   "id": "c1c9d312",
   "metadata": {
    "execution": {
     "iopub.execute_input": "2025-04-29T16:39:11.736091Z",
     "iopub.status.busy": "2025-04-29T16:39:11.735823Z",
     "iopub.status.idle": "2025-04-29T16:39:11.753162Z",
     "shell.execute_reply": "2025-04-29T16:39:11.752412Z"
    },
    "papermill": {
     "duration": 0.025314,
     "end_time": "2025-04-29T16:39:11.754380",
     "exception": false,
     "start_time": "2025-04-29T16:39:11.729066",
     "status": "completed"
    },
    "tags": []
   },
   "outputs": [],
   "source": [
    "def get_class_names(dataset_path, selected_classes=None):\n",
    "    \"\"\"Get class names from the dataset directory.\"\"\"\n",
    "    train_dir = os.path.join(dataset_path, 'train')\n",
    "    \n",
    "    if not os.path.exists(train_dir):\n",
    "        raise FileNotFoundError(f\"Train directory not found: {train_dir}\")\n",
    "    \n",
    "    all_classes = sorted(os.listdir(train_dir))\n",
    "    \n",
    "    if selected_classes is not None:\n",
    "        # Filter classes to only include selected ones\n",
    "        class_names = [cls for cls in all_classes if cls in selected_classes]\n",
    "        if not class_names:\n",
    "            raise ValueError(\"None of the selected classes were found in the dataset.\")\n",
    "    else:\n",
    "        class_names = all_classes\n",
    "        \n",
    "    return class_names\n",
    "\n",
    "\n",
    "def evaluate_model(model, test_dataloader, device, criterion, class_names):\n",
    "    \"\"\"Evaluate the model on the test set and calculate metrics.\"\"\"\n",
    "    model.eval()\n",
    "    start_time = timeit.default_timer()\n",
    "    \n",
    "    # Initialize metrics\n",
    "    running_loss = 0.0\n",
    "    all_preds = []\n",
    "    all_labels = []\n",
    "    all_probs = []\n",
    "    \n",
    "    # Evaluation loop\n",
    "    with torch.no_grad():\n",
    "        for inputs, labels in tqdm(test_dataloader, desc=\"Evaluating\"):\n",
    "            inputs = inputs.to(device)\n",
    "            labels = labels.to(device)\n",
    "            \n",
    "            # Forward pass\n",
    "            outputs = model(inputs)\n",
    "            \n",
    "            # Calculate probabilities\n",
    "            probs = nn.Softmax(dim=1)(outputs)\n",
    "            all_probs.extend(probs.cpu().numpy())\n",
    "            \n",
    "            # Get predictions\n",
    "            preds = torch.max(probs, 1)[1]\n",
    "            all_preds.extend(preds.cpu().numpy())\n",
    "            all_labels.extend(labels.cpu().numpy())\n",
    "            \n",
    "            # Calculate loss\n",
    "            loss = criterion(outputs, labels)\n",
    "            running_loss += loss.item() * inputs.size(0)\n",
    "    \n",
    "    # Calculate overall metrics\n",
    "    test_size = len(test_dataloader.dataset)\n",
    "    loss = running_loss / test_size\n",
    "    accuracy = (np.array(all_preds) == np.array(all_labels)).mean()\n",
    "    \n",
    "    # Convert lists to numpy arrays\n",
    "    all_preds = np.array(all_preds)\n",
    "    all_labels = np.array(all_labels)\n",
    "    \n",
    "    # Calculate classification report\n",
    "    report = classification_report(all_labels, all_preds, target_names=class_names, output_dict=True)\n",
    "    \n",
    "    # Calculate F1, precision, and recall scores\n",
    "    f1 = f1_score(all_labels, all_preds, average='weighted')\n",
    "    precision = precision_score(all_labels, all_preds, average='weighted')\n",
    "    recall = recall_score(all_labels, all_preds, average='weighted')\n",
    "    \n",
    "    # Calculate confusion matrix\n",
    "    conf_matrix = confusion_matrix(all_labels, all_preds)\n",
    "    \n",
    "    # Execution time\n",
    "    stop_time = timeit.default_timer()\n",
    "    execution_time = stop_time - start_time\n",
    "    \n",
    "    metrics = {\n",
    "        'loss': loss,\n",
    "        'accuracy': accuracy,\n",
    "        'f1_score': f1,\n",
    "        'precision': precision,\n",
    "        'recall': recall,\n",
    "        'confusion_matrix': conf_matrix,\n",
    "        'classification_report': report,\n",
    "        'execution_time': execution_time,\n",
    "        'all_probs': np.array(all_probs),\n",
    "        'all_preds': all_preds,\n",
    "        'all_labels': all_labels\n",
    "    }\n",
    "    \n",
    "    return metrics\n",
    "\n",
    "\n",
    "def plot_confusion_matrix(conf_matrix, class_names, output_path=\"confusion_matrix.png\"):\n",
    "    \"\"\"Plot the confusion matrix as a heatmap.\"\"\"\n",
    "    plt.figure(figsize=(12, 10))\n",
    "    \n",
    "    # Normalize confusion matrix\n",
    "    conf_matrix_norm = conf_matrix.astype('float') / conf_matrix.sum(axis=1)[:, np.newaxis]\n",
    "    \n",
    "    # Create a heatmap\n",
    "    sns.heatmap(conf_matrix_norm, annot=True, fmt='.2f', cmap='Blues',\n",
    "                xticklabels=class_names, yticklabels=class_names)\n",
    "    \n",
    "    plt.ylabel('True Label')\n",
    "    plt.xlabel('Predicted Label')\n",
    "    plt.title('Confusion Matrix')\n",
    "    plt.tight_layout()\n",
    "    # plt.savefig(output_path, dpi=300, bbox_inches='tight')\n",
    "    plt.show()\n",
    "    plt.close()\n",
    "\n",
    "\n",
    "def plot_metrics_by_class(report, class_names, output_path=\"class_metrics.png\"):\n",
    "    \"\"\"Plot precision, recall, and F1-score for each class.\"\"\"\n",
    "    # Extract class metrics\n",
    "    metrics_df = pd.DataFrame({\n",
    "        'Precision': [report[class_name]['precision'] for class_name in class_names],\n",
    "        'Recall': [report[class_name]['recall'] for class_name in class_names],\n",
    "        'F1-Score': [report[class_name]['f1-score'] for class_name in class_names]\n",
    "    }, index=class_names)\n",
    "    \n",
    "    # Plot\n",
    "    plt.figure(figsize=(14, 8))\n",
    "    metrics_df.plot(kind='bar', rot=45)\n",
    "    plt.title('Performance Metrics by Class')\n",
    "    plt.ylabel('Score')\n",
    "    plt.grid(axis='y', linestyle='--', alpha=0.7)\n",
    "    plt.tight_layout()\n",
    "    # plt.savefig(output_path, dpi=300, bbox_inches='tight')\n",
    "    plt.show()\n",
    "    plt.close()\n",
    "\n",
    "\n",
    "def print_metrics_summary(metrics, class_names):\n",
    "    \"\"\"Print a summary of the evaluation metrics.\"\"\"\n",
    "    print(\"\\n\" + \"=\"*50)\n",
    "    print(\"MODEL EVALUATION SUMMARY\")\n",
    "    print(\"=\"*50)\n",
    "    \n",
    "    print(f\"Test Loss: {metrics['loss']:.4f}\")\n",
    "    print(f\"Test Accuracy: {metrics['accuracy']:.4f} ({metrics['accuracy']*100:.2f}%)\")\n",
    "    print(f\"F1 Score (Weighted): {metrics['f1_score']:.4f}\")\n",
    "    print(f\"Precision (Weighted): {metrics['precision']:.4f}\")\n",
    "    print(f\"Recall (Weighted): {metrics['recall']:.4f}\")\n",
    "    print(f\"Execution Time: {metrics['execution_time']:.2f} seconds\")\n",
    "    \n",
    "    # Print per-class metrics\n",
    "    print(\"\\nPer-Class Metrics:\")\n",
    "    print(\"-\"*50)\n",
    "    report = metrics['classification_report']\n",
    "    for class_name in class_names:\n",
    "        print(f\"{class_name}:\")\n",
    "        print(f\"  Precision: {report[class_name]['precision']:.4f}\")\n",
    "        print(f\"  Recall: {report[class_name]['recall']:.4f}\")\n",
    "        print(f\"  F1-Score: {report[class_name]['f1-score']:.4f}\")\n",
    "        print(f\"  Support: {report[class_name]['support']}\")\n",
    "        print()\n",
    "\n",
    "\n",
    "def save_metrics_to_csv(metrics, class_names, output_path=\"model_evaluation_results.csv\"):\n",
    "    \"\"\"Save the evaluation metrics to a CSV file.\"\"\"\n",
    "    # Overall metrics\n",
    "    overall_metrics = {\n",
    "        'Metric': ['Loss', 'Accuracy', 'F1 Score (Weighted)', 'Precision (Weighted)', 'Recall (Weighted)'],\n",
    "        'Value': [\n",
    "            metrics['loss'],\n",
    "            metrics['accuracy'],\n",
    "            metrics['f1_score'],\n",
    "            metrics['precision'],\n",
    "            metrics['recall']\n",
    "        ]\n",
    "    }\n",
    "    \n",
    "    overall_df = pd.DataFrame(overall_metrics)\n",
    "    \n",
    "    # Per-class metrics\n",
    "    class_metrics = []\n",
    "    report = metrics['classification_report']\n",
    "    \n",
    "    for class_name in class_names:\n",
    "        class_metrics.append({\n",
    "            'Class': class_name,\n",
    "            'Precision': report[class_name]['precision'],\n",
    "            'Recall': report[class_name]['recall'],\n",
    "            'F1-Score': report[class_name]['f1-score'],\n",
    "            'Support': report[class_name]['support']\n",
    "        })\n",
    "    \n",
    "    class_df = pd.DataFrame(class_metrics)\n",
    "    \n",
    "    # Save to CSV\n",
    "    with open(output_path, 'w') as f:\n",
    "        f.write(\"OVERALL METRICS\\n\")\n",
    "        overall_df.to_csv(f, index=False)\n",
    "        f.write(\"\\nPER-CLASS METRICS\\n\")\n",
    "        class_df.to_csv(f, index=False)\n",
    "    \n",
    "    print(f\"\\nMetrics saved to {output_path}\")"
   ]
  },
  {
   "cell_type": "code",
   "execution_count": 15,
   "id": "81c1bcca",
   "metadata": {
    "execution": {
     "iopub.execute_input": "2025-04-29T16:39:11.767197Z",
     "iopub.status.busy": "2025-04-29T16:39:11.766949Z",
     "iopub.status.idle": "2025-04-29T16:39:11.770377Z",
     "shell.execute_reply": "2025-04-29T16:39:11.769649Z"
    },
    "papermill": {
     "duration": 0.010974,
     "end_time": "2025-04-29T16:39:11.771510",
     "exception": false,
     "start_time": "2025-04-29T16:39:11.760536",
     "status": "completed"
    },
    "tags": []
   },
   "outputs": [],
   "source": [
    "# os.listdir(\"/kaggle/working/save_dir/run/run_0/models\")"
   ]
  },
  {
   "cell_type": "code",
   "execution_count": 16,
   "id": "7a4e3ac0",
   "metadata": {
    "execution": {
     "iopub.execute_input": "2025-04-29T16:39:11.784466Z",
     "iopub.status.busy": "2025-04-29T16:39:11.784067Z",
     "iopub.status.idle": "2025-04-29T16:39:12.229769Z",
     "shell.execute_reply": "2025-04-29T16:39:12.228932Z"
    },
    "papermill": {
     "duration": 0.453832,
     "end_time": "2025-04-29T16:39:12.231256",
     "exception": false,
     "start_time": "2025-04-29T16:39:11.777424",
     "status": "completed"
    },
    "tags": []
   },
   "outputs": [
    {
     "name": "stdout",
     "output_type": "stream",
     "text": [
      "Device being used: cuda\n"
     ]
    }
   ],
   "source": [
    "# Use GPU if available else revert to CPU\n",
    "device = torch.device(\"cuda\" if torch.cuda.is_available() else \"cpu\")\n",
    "print(\"Device being used:\", device)\n",
    "\n",
    "nEpochs = 50  # Number of epochs for training\n",
    "resume_epoch = 0  # Default is 0, change if want to resume\n",
    "useTest = True # See evolution of the test set when training\n",
    "nTestInterval = 5 # Run on test set every nTestInterval epochs\n",
    "snapshot = 5 # Store a model every snapshot epochs\n",
    "lr = 1e-4 # Learning rate\n",
    "\n",
    "dataset = 'ucf101' # Options: hmdb51 or ucf101\n",
    "\n",
    "if dataset == 'hmdb51':\n",
    "    num_classes=51\n",
    "elif dataset == 'ucf101':\n",
    "    num_classes = 101\n",
    "else:\n",
    "    print('We only implemented hmdb and ucf datasets.')\n",
    "    raise NotImplementedError\n",
    "\n",
    "\n",
    "save_dir_root = \"/kaggle/working/save_dir\"\n",
    "if not os.path.exists(save_dir_root):\n",
    "    os.mkdir(save_dir_root)\n",
    "# save_dir_root = os.path.join(os.path.dirname(os.path.abspath(__file__)))\n",
    "# exp_name = os.path.dirname(os.path.abspath(__file__)).split('/')[-1]\n",
    "\n",
    "if resume_epoch != 0:\n",
    "    runs = sorted(glob.glob(os.path.join(save_dir_root, 'run', 'run_*')))\n",
    "    run_id = int(runs[-1].split('_')[-1]) if runs else 0\n",
    "else:\n",
    "    runs = sorted(glob.glob(os.path.join(save_dir_root, 'run', 'run_*')))\n",
    "    run_id = int(runs[-1].split('_')[-1]) + 1 if runs else 0\n",
    "\n",
    "save_dir = os.path.join(save_dir_root, 'run', 'run_' + str(run_id))\n",
    "modelName = 'CNNTransformer' # Options: C3D or R2Plus1D or R3D\n",
    "\n",
    "model = CNNTransformer(num_classes = len(selected_classes), pretrained=False)\n",
    "\n",
    "saveName = modelName + '-' + dataset"
   ]
  },
  {
   "cell_type": "code",
   "execution_count": 17,
   "id": "9d909038",
   "metadata": {
    "execution": {
     "iopub.execute_input": "2025-04-29T16:39:12.244850Z",
     "iopub.status.busy": "2025-04-29T16:39:12.244616Z",
     "iopub.status.idle": "2025-04-29T16:39:12.261753Z",
     "shell.execute_reply": "2025-04-29T16:39:12.261210Z"
    },
    "papermill": {
     "duration": 0.025031,
     "end_time": "2025-04-29T16:39:12.262842",
     "exception": false,
     "start_time": "2025-04-29T16:39:12.237811",
     "status": "completed"
    },
    "tags": []
   },
   "outputs": [],
   "source": [
    "def train_model(model, dataset=dataset, save_dir=save_dir, num_classes=num_classes, lr=lr,\n",
    "                num_epochs=nEpochs, save_epoch=snapshot, useTest=useTest, test_interval=nTestInterval):\n",
    "    \"\"\"\n",
    "        Args:\n",
    "            num_classes (int): Number of classes in the data\n",
    "            num_epochs (int, optional): Number of epochs to train for.\n",
    "    \"\"\"\n",
    "\n",
    "    # if modelName == 'C3D':\n",
    "    #     model = C3D(num_classes=num_classes, pretrained=False)\n",
    "    #     train_params = [{'params': get_1x_lr_params(model), 'lr': lr},\n",
    "    #                     {'params': get_10x_lr_params(model), 'lr': lr * 10}]\n",
    "    # elif modelName == 'R2Plus1D':\n",
    "    #     model = R2Plus1DClassifier(num_classes=num_classes, layer_sizes=(2, 2, 2, 2))\n",
    "    #     train_params = [{'params': get_1x_lr_params(model), 'lr': lr},\n",
    "    #                     {'params': get_10x_lr_params(model), 'lr': lr * 10}]\n",
    "    # elif modelName == 'R3D':\n",
    "    #     model = R3DClassifier(num_classes=num_classes, layer_sizes=(2, 2, 2, 2))\n",
    "    #     train_params = model.parameters()\n",
    "    # else:\n",
    "    #     print('We only implemented C3D and R2Plus1D models.')\n",
    "    #     raise NotImplementedError\n",
    "\n",
    "    train_params = model.parameters()\n",
    "    \n",
    "    criterion = nn.CrossEntropyLoss()  # standard crossentropy loss for classification\n",
    "    optimizer = optim.Adam(train_params, lr=lr)\n",
    "    scheduler = optim.lr_scheduler.StepLR(optimizer, step_size=10,\n",
    "                                          gamma=0.1)  # the scheduler divides the lr by 10 every 10 epochs\n",
    "\n",
    "    if resume_epoch == 0:\n",
    "        print(\"Training {} from scratch...\".format(modelName))\n",
    "    else:\n",
    "        checkpoint = torch.load(os.path.join(save_dir, 'models', saveName + '_epoch-' + str(resume_epoch - 1) + '.pth.tar'),\n",
    "                       map_location=lambda storage, loc: storage)   # Load all tensors onto the CPU\n",
    "        print(\"Initializing weights from: {}...\".format(\n",
    "            os.path.join(save_dir, 'models', saveName + '_epoch-' + str(resume_epoch - 1) + '.pth.tar')))\n",
    "        model.load_state_dict(checkpoint['state_dict'])\n",
    "        optimizer.load_state_dict(checkpoint['opt_dict'])\n",
    "\n",
    "    print('Total params: %.2fM' % (sum(p.numel() for p in model.parameters()) / 1000000.0))\n",
    "    model.to(device)\n",
    "    criterion.to(device)\n",
    "\n",
    "    log_dir = os.path.join(save_dir, 'models', datetime.now().strftime('%b%d_%H-%M-%S') + '_' + socket.gethostname())\n",
    "    writer = SummaryWriter(log_dir=log_dir)\n",
    "\n",
    "    print('Training model on {} dataset...'.format(dataset))\n",
    "    train_dataloader = DataLoader(VideoDataset(dataset=dataset, split='train',clip_len=16, selected_classes = selected_classes), batch_size=20, shuffle=True, num_workers=4)\n",
    "    val_dataloader   = DataLoader(VideoDataset(dataset=dataset, split='val',  clip_len=16,selected_classes = selected_classes), batch_size=20, num_workers=4)\n",
    "    test_dataloader  = DataLoader(VideoDataset(dataset=dataset, split='test', clip_len=16,selected_classes = selected_classes), batch_size=20, num_workers=4)\n",
    "\n",
    "    trainval_loaders = {'train': train_dataloader, 'val': val_dataloader}\n",
    "    trainval_sizes = {x: len(trainval_loaders[x].dataset) for x in ['train', 'val']}\n",
    "    test_size = len(test_dataloader.dataset)\n",
    "\n",
    "    for epoch in range(resume_epoch, num_epochs):\n",
    "        # each epoch has a training and validation step\n",
    "        for phase in ['train']:\n",
    "            start_time = timeit.default_timer()\n",
    "\n",
    "            # reset the running loss and corrects\n",
    "            running_loss = 0.0\n",
    "            running_corrects = 0.0\n",
    "\n",
    "            # set model to train() or eval() mode depending on whether it is trained\n",
    "            # or being validated. Primarily affects layers such as BatchNorm or Dropout.\n",
    "            if phase == 'train':\n",
    "                # scheduler.step() is to be called once every epoch during training\n",
    "                scheduler.step()\n",
    "                model.train()\n",
    "            else:\n",
    "                model.eval()\n",
    "\n",
    "            for inputs, labels in tqdm(trainval_loaders[phase]):\n",
    "                # move inputs and labels to the device the training is taking place on\n",
    "                inputs = Variable(inputs, requires_grad=True).to(device)\n",
    "                # print(\"Inputs max:\", inputs.max(), \"min:\", inputs.min())\n",
    "                # print(\"Labels unique:\", labels.unique())\n",
    "\n",
    "                labels = Variable(labels).to(device)\n",
    "                optimizer.zero_grad()\n",
    "\n",
    "                if phase == 'train':\n",
    "                    outputs = model(inputs)\n",
    "                else:\n",
    "                    with torch.no_grad():\n",
    "                        outputs = model(inputs)\n",
    "\n",
    "                # probs = nn.Softmax(dim=1)(outputs)\n",
    "                # preds = torch.max(probs, 1)[1]\n",
    "                # loss = criterion(outputs, labels)\n",
    "                loss = criterion(outputs, labels)\n",
    "                preds = torch.max(outputs, 1)[1]\n",
    "\n",
    "                if phase == 'train':\n",
    "                    loss.backward()\n",
    "                    optimizer.step()\n",
    "\n",
    "                running_loss += loss.item() * inputs.size(0)\n",
    "                running_corrects += torch.sum(preds == labels.data)\n",
    "\n",
    "            epoch_loss = running_loss / trainval_sizes[phase]\n",
    "            epoch_acc = running_corrects.double() / trainval_sizes[phase]\n",
    "\n",
    "            if phase == 'train':\n",
    "                writer.add_scalar('data/train_loss_epoch', epoch_loss, epoch)\n",
    "                writer.add_scalar('data/train_acc_epoch', epoch_acc, epoch)\n",
    "            else:\n",
    "                writer.add_scalar('data/val_loss_epoch', epoch_loss, epoch)\n",
    "                writer.add_scalar('data/val_acc_epoch', epoch_acc, epoch)\n",
    "\n",
    "            print(\"[{}] Epoch: {}/{} Loss: {} Acc: {}\".format(phase, epoch+1, nEpochs, epoch_loss, epoch_acc))\n",
    "            stop_time = timeit.default_timer()\n",
    "            print(\"Execution time: \" + str(stop_time - start_time) + \"\\n\")\n",
    "\n",
    "        if epoch % save_epoch == (save_epoch - 1):\n",
    "            torch.save({\n",
    "                'epoch': epoch + 1,\n",
    "                'state_dict': model.state_dict(),\n",
    "                'opt_dict': optimizer.state_dict(),\n",
    "            }, os.path.join(save_dir, 'models', saveName + '_epoch-' + str(epoch) + '.pth.tar'))\n",
    "            print(\"Save model at {}\\n\".format(os.path.join(save_dir, 'models', saveName + '_epoch-' + str(epoch) + '.pth.tar')))\n",
    "\n",
    "        if useTest and epoch % test_interval == (test_interval - 1):\n",
    "            model.eval()\n",
    "            start_time = timeit.default_timer()\n",
    "\n",
    "            running_loss = 0.0\n",
    "            running_corrects = 0.0\n",
    "\n",
    "            for inputs, labels in tqdm(test_dataloader):\n",
    "                inputs = inputs.to(device)\n",
    "                labels = labels.to(device)\n",
    "\n",
    "                with torch.no_grad():\n",
    "                    outputs = model(inputs)\n",
    "                probs = nn.Softmax(dim=1)(outputs)\n",
    "                preds = torch.max(probs, 1)[1]\n",
    "                loss = criterion(outputs, labels)\n",
    "\n",
    "                running_loss += loss.item() * inputs.size(0)\n",
    "                running_corrects += torch.sum(preds == labels.data)\n",
    "\n",
    "            epoch_loss = running_loss / test_size\n",
    "            epoch_acc = running_corrects.double() / test_size\n",
    "\n",
    "            writer.add_scalar('data/test_loss_epoch', epoch_loss, epoch)\n",
    "            writer.add_scalar('data/test_acc_epoch', epoch_acc, epoch)\n",
    "\n",
    "            print(\"[test] Epoch: {}/{} Loss: {} Acc: {}\".format(epoch+1, nEpochs, epoch_loss, epoch_acc))\n",
    "            stop_time = timeit.default_timer()\n",
    "            print(\"Execution time: \" + str(stop_time - start_time) + \"\\n\")\n",
    "\n",
    "    metrics = evaluate_model(model, test_dataloader, device, criterion, class_names = selected_classes)\n",
    "    # Print results summary\n",
    "    print_metrics_summary(metrics, class_names = selected_classes)\n",
    "\n",
    "    cm_path = os.path.join(\"kaggle/working\", \"confusion_matrix.png\")\n",
    "    plot_confusion_matrix(metrics['confusion_matrix'], selected_classes, cm_path)\n",
    "    metrics_path = os.path.join(\"kaggle/working/\", \"class_metrics.png\")\n",
    "    plot_metrics_by_class(metrics['classification_report'], selected_classes, metrics_path)\n",
    "    \n",
    "    writer.close()"
   ]
  },
  {
   "cell_type": "code",
   "execution_count": 18,
   "id": "4e9ce5e9",
   "metadata": {
    "execution": {
     "iopub.execute_input": "2025-04-29T16:39:12.275629Z",
     "iopub.status.busy": "2025-04-29T16:39:12.275419Z",
     "iopub.status.idle": "2025-04-29T17:06:42.952758Z",
     "shell.execute_reply": "2025-04-29T17:06:42.952033Z"
    },
    "papermill": {
     "duration": 1650.685128,
     "end_time": "2025-04-29T17:06:42.953970",
     "exception": false,
     "start_time": "2025-04-29T16:39:12.268842",
     "status": "completed"
    },
    "tags": []
   },
   "outputs": [
    {
     "name": "stdout",
     "output_type": "stream",
     "text": [
      "Training CNNTransformer from scratch...\n",
      "Total params: 34.71M\n",
      "Training model on ucf101 dataset...\n"
     ]
    },
    {
     "name": "stderr",
     "output_type": "stream",
     "text": [
      "/usr/local/lib/python3.11/dist-packages/torch/optim/lr_scheduler.py:224: UserWarning: Detected call of `lr_scheduler.step()` before `optimizer.step()`. In PyTorch 1.1.0 and later, you should call them in the opposite order: `optimizer.step()` before `lr_scheduler.step()`.  Failure to do this will result in PyTorch skipping the first value of the learning rate schedule. See more details at https://pytorch.org/docs/stable/optim.html#how-to-adjust-learning-rate\n",
      "  warnings.warn(\n"
     ]
    },
    {
     "name": "stdout",
     "output_type": "stream",
     "text": [
      "Using 10 selected classes out of 101 available classes.\n",
      "Number of train videos: 802\n",
      "Using 10 selected classes out of 101 available classes.\n",
      "Number of val videos: 204\n",
      "Using 10 selected classes out of 101 available classes.\n",
      "Number of test videos: 256\n"
     ]
    },
    {
     "name": "stderr",
     "output_type": "stream",
     "text": [
      "100%|██████████| 41/41 [00:51<00:00,  1.27s/it]\n"
     ]
    },
    {
     "name": "stdout",
     "output_type": "stream",
     "text": [
      "[train] Epoch: 1/50 Loss: 1.965603144091561 Acc: 0.3790523690773067\n",
      "Execution time: 51.937030263999986\n",
      "\n"
     ]
    },
    {
     "name": "stderr",
     "output_type": "stream",
     "text": [
      "100%|██████████| 41/41 [00:30<00:00,  1.36it/s]\n"
     ]
    },
    {
     "name": "stdout",
     "output_type": "stream",
     "text": [
      "[train] Epoch: 2/50 Loss: 1.3670449497693793 Acc: 0.571072319201995\n",
      "Execution time: 30.085262556999965\n",
      "\n"
     ]
    },
    {
     "name": "stderr",
     "output_type": "stream",
     "text": [
      "100%|██████████| 41/41 [00:30<00:00,  1.36it/s]\n"
     ]
    },
    {
     "name": "stdout",
     "output_type": "stream",
     "text": [
      "[train] Epoch: 3/50 Loss: 0.9670050090685153 Acc: 0.729426433915212\n",
      "Execution time: 30.24347087000001\n",
      "\n"
     ]
    },
    {
     "name": "stderr",
     "output_type": "stream",
     "text": [
      "100%|██████████| 41/41 [00:30<00:00,  1.36it/s]\n"
     ]
    },
    {
     "name": "stdout",
     "output_type": "stream",
     "text": [
      "[train] Epoch: 4/50 Loss: 0.7386880045817082 Acc: 0.786783042394015\n",
      "Execution time: 30.203767497\n",
      "\n"
     ]
    },
    {
     "name": "stderr",
     "output_type": "stream",
     "text": [
      "100%|██████████| 41/41 [00:30<00:00,  1.36it/s]\n"
     ]
    },
    {
     "name": "stdout",
     "output_type": "stream",
     "text": [
      "[train] Epoch: 5/50 Loss: 0.6464877295821088 Acc: 0.8117206982543641\n",
      "Execution time: 30.236675872999967\n",
      "\n",
      "Save model at /kaggle/working/save_dir/run/run_0/models/CNNTransformer-ucf101_epoch-4.pth.tar\n",
      "\n"
     ]
    },
    {
     "name": "stderr",
     "output_type": "stream",
     "text": [
      "100%|██████████| 13/13 [00:27<00:00,  2.10s/it]\n"
     ]
    },
    {
     "name": "stdout",
     "output_type": "stream",
     "text": [
      "[test] Epoch: 5/50 Loss: 0.7298620655201375 Acc: 0.76953125\n",
      "Execution time: 27.265455375999977\n",
      "\n"
     ]
    },
    {
     "name": "stderr",
     "output_type": "stream",
     "text": [
      "100%|██████████| 41/41 [00:30<00:00,  1.35it/s]\n"
     ]
    },
    {
     "name": "stdout",
     "output_type": "stream",
     "text": [
      "[train] Epoch: 6/50 Loss: 0.5030203043968601 Acc: 0.8516209476309227\n",
      "Execution time: 30.47667861100001\n",
      "\n"
     ]
    },
    {
     "name": "stderr",
     "output_type": "stream",
     "text": [
      "100%|██████████| 41/41 [00:30<00:00,  1.35it/s]\n"
     ]
    },
    {
     "name": "stdout",
     "output_type": "stream",
     "text": [
      "[train] Epoch: 7/50 Loss: 0.4132693361611735 Acc: 0.8765586034912718\n",
      "Execution time: 30.481503941000028\n",
      "\n"
     ]
    },
    {
     "name": "stderr",
     "output_type": "stream",
     "text": [
      "100%|██████████| 41/41 [00:30<00:00,  1.35it/s]\n"
     ]
    },
    {
     "name": "stdout",
     "output_type": "stream",
     "text": [
      "[train] Epoch: 8/50 Loss: 0.48968470590816177 Acc: 0.8566084788029925\n",
      "Execution time: 30.279420180999978\n",
      "\n"
     ]
    },
    {
     "name": "stderr",
     "output_type": "stream",
     "text": [
      "100%|██████████| 41/41 [00:30<00:00,  1.36it/s]\n"
     ]
    },
    {
     "name": "stdout",
     "output_type": "stream",
     "text": [
      "[train] Epoch: 9/50 Loss: 0.31582902672879415 Acc: 0.9014962593516209\n",
      "Execution time: 30.124862811999947\n",
      "\n"
     ]
    },
    {
     "name": "stderr",
     "output_type": "stream",
     "text": [
      "100%|██████████| 41/41 [00:30<00:00,  1.35it/s]\n"
     ]
    },
    {
     "name": "stdout",
     "output_type": "stream",
     "text": [
      "[train] Epoch: 10/50 Loss: 0.20876157935941012 Acc: 0.9451371571072319\n",
      "Execution time: 30.38111010600005\n",
      "\n",
      "Save model at /kaggle/working/save_dir/run/run_0/models/CNNTransformer-ucf101_epoch-9.pth.tar\n",
      "\n"
     ]
    },
    {
     "name": "stderr",
     "output_type": "stream",
     "text": [
      "100%|██████████| 13/13 [00:07<00:00,  1.71it/s]\n"
     ]
    },
    {
     "name": "stdout",
     "output_type": "stream",
     "text": [
      "[test] Epoch: 10/50 Loss: 0.43059858650667593 Acc: 0.89453125\n",
      "Execution time: 7.638107471000012\n",
      "\n"
     ]
    },
    {
     "name": "stderr",
     "output_type": "stream",
     "text": [
      "100%|██████████| 41/41 [00:30<00:00,  1.35it/s]\n"
     ]
    },
    {
     "name": "stdout",
     "output_type": "stream",
     "text": [
      "[train] Epoch: 11/50 Loss: 0.14117598836484396 Acc: 0.9663341645885286\n",
      "Execution time: 30.39964992399996\n",
      "\n"
     ]
    },
    {
     "name": "stderr",
     "output_type": "stream",
     "text": [
      "100%|██████████| 41/41 [00:30<00:00,  1.34it/s]\n"
     ]
    },
    {
     "name": "stdout",
     "output_type": "stream",
     "text": [
      "[train] Epoch: 12/50 Loss: 0.12192195170835367 Acc: 0.9713216957605985\n",
      "Execution time: 30.512941604999924\n",
      "\n"
     ]
    },
    {
     "name": "stderr",
     "output_type": "stream",
     "text": [
      "100%|██████████| 41/41 [00:30<00:00,  1.35it/s]\n"
     ]
    },
    {
     "name": "stdout",
     "output_type": "stream",
     "text": [
      "[train] Epoch: 13/50 Loss: 0.11579558554284293 Acc: 0.9750623441396509\n",
      "Execution time: 30.367751218999956\n",
      "\n"
     ]
    },
    {
     "name": "stderr",
     "output_type": "stream",
     "text": [
      "100%|██████████| 41/41 [00:30<00:00,  1.35it/s]\n"
     ]
    },
    {
     "name": "stdout",
     "output_type": "stream",
     "text": [
      "[train] Epoch: 14/50 Loss: 0.12982591437617144 Acc: 0.9638403990024937\n",
      "Execution time: 30.338101061999964\n",
      "\n"
     ]
    },
    {
     "name": "stderr",
     "output_type": "stream",
     "text": [
      "100%|██████████| 41/41 [00:30<00:00,  1.36it/s]\n"
     ]
    },
    {
     "name": "stdout",
     "output_type": "stream",
     "text": [
      "[train] Epoch: 15/50 Loss: 0.09705513843017029 Acc: 0.983790523690773\n",
      "Execution time: 30.226145651000024\n",
      "\n",
      "Save model at /kaggle/working/save_dir/run/run_0/models/CNNTransformer-ucf101_epoch-14.pth.tar\n",
      "\n"
     ]
    },
    {
     "name": "stderr",
     "output_type": "stream",
     "text": [
      "100%|██████████| 13/13 [00:07<00:00,  1.70it/s]\n"
     ]
    },
    {
     "name": "stdout",
     "output_type": "stream",
     "text": [
      "[test] Epoch: 15/50 Loss: 0.29317221729434095 Acc: 0.9375\n",
      "Execution time: 7.66785045000006\n",
      "\n"
     ]
    },
    {
     "name": "stderr",
     "output_type": "stream",
     "text": [
      "100%|██████████| 41/41 [00:30<00:00,  1.36it/s]\n"
     ]
    },
    {
     "name": "stdout",
     "output_type": "stream",
     "text": [
      "[train] Epoch: 16/50 Loss: 0.08785910156562442 Acc: 0.9788029925187032\n",
      "Execution time: 30.117288149000046\n",
      "\n"
     ]
    },
    {
     "name": "stderr",
     "output_type": "stream",
     "text": [
      "100%|██████████| 41/41 [00:30<00:00,  1.34it/s]\n"
     ]
    },
    {
     "name": "stdout",
     "output_type": "stream",
     "text": [
      "[train] Epoch: 17/50 Loss: 0.08373429726558433 Acc: 0.983790523690773\n",
      "Execution time: 30.513566477999916\n",
      "\n"
     ]
    },
    {
     "name": "stderr",
     "output_type": "stream",
     "text": [
      "100%|██████████| 41/41 [00:30<00:00,  1.37it/s]\n"
     ]
    },
    {
     "name": "stdout",
     "output_type": "stream",
     "text": [
      "[train] Epoch: 18/50 Loss: 0.08487858364075199 Acc: 0.9850374064837905\n",
      "Execution time: 30.02258167499997\n",
      "\n"
     ]
    },
    {
     "name": "stderr",
     "output_type": "stream",
     "text": [
      "100%|██████████| 41/41 [00:30<00:00,  1.36it/s]\n"
     ]
    },
    {
     "name": "stdout",
     "output_type": "stream",
     "text": [
      "[train] Epoch: 19/50 Loss: 0.08115904838627117 Acc: 0.9850374064837905\n",
      "Execution time: 30.16165464400001\n",
      "\n"
     ]
    },
    {
     "name": "stderr",
     "output_type": "stream",
     "text": [
      "100%|██████████| 41/41 [00:30<00:00,  1.35it/s]\n"
     ]
    },
    {
     "name": "stdout",
     "output_type": "stream",
     "text": [
      "[train] Epoch: 20/50 Loss: 0.06859869166669852 Acc: 0.9850374064837905\n",
      "Execution time: 30.36686085100007\n",
      "\n",
      "Save model at /kaggle/working/save_dir/run/run_0/models/CNNTransformer-ucf101_epoch-19.pth.tar\n",
      "\n"
     ]
    },
    {
     "name": "stderr",
     "output_type": "stream",
     "text": [
      "100%|██████████| 13/13 [00:07<00:00,  1.72it/s]\n"
     ]
    },
    {
     "name": "stdout",
     "output_type": "stream",
     "text": [
      "[test] Epoch: 20/50 Loss: 0.35107765076099895 Acc: 0.9140625\n",
      "Execution time: 7.566210249999813\n",
      "\n"
     ]
    },
    {
     "name": "stderr",
     "output_type": "stream",
     "text": [
      "100%|██████████| 41/41 [00:30<00:00,  1.35it/s]\n"
     ]
    },
    {
     "name": "stdout",
     "output_type": "stream",
     "text": [
      "[train] Epoch: 21/50 Loss: 0.05472938234260552 Acc: 0.9937655860349127\n",
      "Execution time: 30.432613701000037\n",
      "\n"
     ]
    },
    {
     "name": "stderr",
     "output_type": "stream",
     "text": [
      "100%|██████████| 41/41 [00:30<00:00,  1.35it/s]\n"
     ]
    },
    {
     "name": "stdout",
     "output_type": "stream",
     "text": [
      "[train] Epoch: 22/50 Loss: 0.07020748787538666 Acc: 0.9900249376558603\n",
      "Execution time: 30.3291928000001\n",
      "\n"
     ]
    },
    {
     "name": "stderr",
     "output_type": "stream",
     "text": [
      "100%|██████████| 41/41 [00:30<00:00,  1.36it/s]\n"
     ]
    },
    {
     "name": "stdout",
     "output_type": "stream",
     "text": [
      "[train] Epoch: 23/50 Loss: 0.058943977537669445 Acc: 0.9912718204488777\n",
      "Execution time: 30.05252514499989\n",
      "\n"
     ]
    },
    {
     "name": "stderr",
     "output_type": "stream",
     "text": [
      "100%|██████████| 41/41 [00:30<00:00,  1.35it/s]\n"
     ]
    },
    {
     "name": "stdout",
     "output_type": "stream",
     "text": [
      "[train] Epoch: 24/50 Loss: 0.06782159217612405 Acc: 0.9850374064837905\n",
      "Execution time: 30.34041681000008\n",
      "\n"
     ]
    },
    {
     "name": "stderr",
     "output_type": "stream",
     "text": [
      "100%|██████████| 41/41 [00:30<00:00,  1.34it/s]\n"
     ]
    },
    {
     "name": "stdout",
     "output_type": "stream",
     "text": [
      "[train] Epoch: 25/50 Loss: 0.05936133924713753 Acc: 0.9912718204488777\n",
      "Execution time: 30.507588253999984\n",
      "\n",
      "Save model at /kaggle/working/save_dir/run/run_0/models/CNNTransformer-ucf101_epoch-24.pth.tar\n",
      "\n"
     ]
    },
    {
     "name": "stderr",
     "output_type": "stream",
     "text": [
      "100%|██████████| 13/13 [00:07<00:00,  1.72it/s]\n"
     ]
    },
    {
     "name": "stdout",
     "output_type": "stream",
     "text": [
      "[test] Epoch: 25/50 Loss: 0.3110183183453046 Acc: 0.921875\n",
      "Execution time: 7.588439036000182\n",
      "\n"
     ]
    },
    {
     "name": "stderr",
     "output_type": "stream",
     "text": [
      "100%|██████████| 41/41 [00:30<00:00,  1.36it/s]\n"
     ]
    },
    {
     "name": "stdout",
     "output_type": "stream",
     "text": [
      "[train] Epoch: 26/50 Loss: 0.06802376305819152 Acc: 0.983790523690773\n",
      "Execution time: 30.229563697999993\n",
      "\n"
     ]
    },
    {
     "name": "stderr",
     "output_type": "stream",
     "text": [
      "100%|██████████| 41/41 [00:30<00:00,  1.36it/s]\n"
     ]
    },
    {
     "name": "stdout",
     "output_type": "stream",
     "text": [
      "[train] Epoch: 27/50 Loss: 0.06591460776708073 Acc: 0.9850374064837905\n",
      "Execution time: 30.24895373100003\n",
      "\n"
     ]
    },
    {
     "name": "stderr",
     "output_type": "stream",
     "text": [
      "100%|██████████| 41/41 [00:30<00:00,  1.35it/s]\n"
     ]
    },
    {
     "name": "stdout",
     "output_type": "stream",
     "text": [
      "[train] Epoch: 28/50 Loss: 0.06388578006993059 Acc: 0.9875311720698254\n",
      "Execution time: 30.307240100999934\n",
      "\n"
     ]
    },
    {
     "name": "stderr",
     "output_type": "stream",
     "text": [
      "100%|██████████| 41/41 [00:30<00:00,  1.35it/s]\n"
     ]
    },
    {
     "name": "stdout",
     "output_type": "stream",
     "text": [
      "[train] Epoch: 29/50 Loss: 0.06495537214965892 Acc: 0.9850374064837905\n",
      "Execution time: 30.272132503999956\n",
      "\n"
     ]
    },
    {
     "name": "stderr",
     "output_type": "stream",
     "text": [
      "100%|██████████| 41/41 [00:30<00:00,  1.35it/s]\n"
     ]
    },
    {
     "name": "stdout",
     "output_type": "stream",
     "text": [
      "[train] Epoch: 30/50 Loss: 0.06819488934039178 Acc: 0.9812967581047382\n",
      "Execution time: 30.303187767999816\n",
      "\n",
      "Save model at /kaggle/working/save_dir/run/run_0/models/CNNTransformer-ucf101_epoch-29.pth.tar\n",
      "\n"
     ]
    },
    {
     "name": "stderr",
     "output_type": "stream",
     "text": [
      "100%|██████████| 13/13 [00:07<00:00,  1.77it/s]\n"
     ]
    },
    {
     "name": "stdout",
     "output_type": "stream",
     "text": [
      "[test] Epoch: 30/50 Loss: 0.23557995018200018 Acc: 0.94140625\n",
      "Execution time: 7.377580636999937\n",
      "\n"
     ]
    },
    {
     "name": "stderr",
     "output_type": "stream",
     "text": [
      "100%|██████████| 41/41 [00:30<00:00,  1.36it/s]\n"
     ]
    },
    {
     "name": "stdout",
     "output_type": "stream",
     "text": [
      "[train] Epoch: 31/50 Loss: 0.048954041433193145 Acc: 0.9925187032418953\n",
      "Execution time: 30.13786596\n",
      "\n"
     ]
    },
    {
     "name": "stderr",
     "output_type": "stream",
     "text": [
      "100%|██████████| 41/41 [00:30<00:00,  1.36it/s]\n"
     ]
    },
    {
     "name": "stdout",
     "output_type": "stream",
     "text": [
      "[train] Epoch: 32/50 Loss: 0.0687824659458271 Acc: 0.9825436408977556\n",
      "Execution time: 30.180081053000094\n",
      "\n"
     ]
    },
    {
     "name": "stderr",
     "output_type": "stream",
     "text": [
      "100%|██████████| 41/41 [00:29<00:00,  1.37it/s]\n"
     ]
    },
    {
     "name": "stdout",
     "output_type": "stream",
     "text": [
      "[train] Epoch: 33/50 Loss: 0.06327416329293922 Acc: 0.9900249376558603\n",
      "Execution time: 29.87574067500009\n",
      "\n"
     ]
    },
    {
     "name": "stderr",
     "output_type": "stream",
     "text": [
      "100%|██████████| 41/41 [00:30<00:00,  1.36it/s]\n"
     ]
    },
    {
     "name": "stdout",
     "output_type": "stream",
     "text": [
      "[train] Epoch: 34/50 Loss: 0.05647817728321005 Acc: 0.986284289276808\n",
      "Execution time: 30.074735748999956\n",
      "\n"
     ]
    },
    {
     "name": "stderr",
     "output_type": "stream",
     "text": [
      "100%|██████████| 41/41 [00:30<00:00,  1.36it/s]\n"
     ]
    },
    {
     "name": "stdout",
     "output_type": "stream",
     "text": [
      "[train] Epoch: 35/50 Loss: 0.06626525616036388 Acc: 0.9850374064837905\n",
      "Execution time: 30.119041253999967\n",
      "\n",
      "Save model at /kaggle/working/save_dir/run/run_0/models/CNNTransformer-ucf101_epoch-34.pth.tar\n",
      "\n"
     ]
    },
    {
     "name": "stderr",
     "output_type": "stream",
     "text": [
      "100%|██████████| 13/13 [00:07<00:00,  1.72it/s]\n"
     ]
    },
    {
     "name": "stdout",
     "output_type": "stream",
     "text": [
      "[test] Epoch: 35/50 Loss: 0.2926821320725139 Acc: 0.93359375\n",
      "Execution time: 7.569933248000098\n",
      "\n"
     ]
    },
    {
     "name": "stderr",
     "output_type": "stream",
     "text": [
      "100%|██████████| 41/41 [00:30<00:00,  1.35it/s]\n"
     ]
    },
    {
     "name": "stdout",
     "output_type": "stream",
     "text": [
      "[train] Epoch: 36/50 Loss: 0.06411929439260924 Acc: 0.986284289276808\n",
      "Execution time: 30.378070335999837\n",
      "\n"
     ]
    },
    {
     "name": "stderr",
     "output_type": "stream",
     "text": [
      "100%|██████████| 41/41 [00:29<00:00,  1.38it/s]\n"
     ]
    },
    {
     "name": "stdout",
     "output_type": "stream",
     "text": [
      "[train] Epoch: 37/50 Loss: 0.05402076775277791 Acc: 0.9900249376558603\n",
      "Execution time: 29.821387120000054\n",
      "\n"
     ]
    },
    {
     "name": "stderr",
     "output_type": "stream",
     "text": [
      "100%|██████████| 41/41 [00:30<00:00,  1.36it/s]\n"
     ]
    },
    {
     "name": "stdout",
     "output_type": "stream",
     "text": [
      "[train] Epoch: 38/50 Loss: 0.05295226750361206 Acc: 0.9937655860349127\n",
      "Execution time: 30.260610761999942\n",
      "\n"
     ]
    },
    {
     "name": "stderr",
     "output_type": "stream",
     "text": [
      "100%|██████████| 41/41 [00:30<00:00,  1.36it/s]\n"
     ]
    },
    {
     "name": "stdout",
     "output_type": "stream",
     "text": [
      "[train] Epoch: 39/50 Loss: 0.057181223702066554 Acc: 0.9887780548628429\n",
      "Execution time: 30.118019399999866\n",
      "\n"
     ]
    },
    {
     "name": "stderr",
     "output_type": "stream",
     "text": [
      "100%|██████████| 41/41 [00:30<00:00,  1.35it/s]\n"
     ]
    },
    {
     "name": "stdout",
     "output_type": "stream",
     "text": [
      "[train] Epoch: 40/50 Loss: 0.05036563082061652 Acc: 0.9937655860349127\n",
      "Execution time: 30.44319612000004\n",
      "\n",
      "Save model at /kaggle/working/save_dir/run/run_0/models/CNNTransformer-ucf101_epoch-39.pth.tar\n",
      "\n"
     ]
    },
    {
     "name": "stderr",
     "output_type": "stream",
     "text": [
      "100%|██████████| 13/13 [00:07<00:00,  1.81it/s]\n"
     ]
    },
    {
     "name": "stdout",
     "output_type": "stream",
     "text": [
      "[test] Epoch: 40/50 Loss: 0.27974459691904485 Acc: 0.91796875\n",
      "Execution time: 7.198131603999855\n",
      "\n"
     ]
    },
    {
     "name": "stderr",
     "output_type": "stream",
     "text": [
      "100%|██████████| 41/41 [00:30<00:00,  1.34it/s]\n"
     ]
    },
    {
     "name": "stdout",
     "output_type": "stream",
     "text": [
      "[train] Epoch: 41/50 Loss: 0.049907314624786 Acc: 0.9937655860349127\n",
      "Execution time: 30.497000302999822\n",
      "\n"
     ]
    },
    {
     "name": "stderr",
     "output_type": "stream",
     "text": [
      "100%|██████████| 41/41 [00:30<00:00,  1.36it/s]\n"
     ]
    },
    {
     "name": "stdout",
     "output_type": "stream",
     "text": [
      "[train] Epoch: 42/50 Loss: 0.04775595959471051 Acc: 0.9937655860349127\n",
      "Execution time: 30.258362729000055\n",
      "\n"
     ]
    },
    {
     "name": "stderr",
     "output_type": "stream",
     "text": [
      "100%|██████████| 41/41 [00:30<00:00,  1.36it/s]\n"
     ]
    },
    {
     "name": "stdout",
     "output_type": "stream",
     "text": [
      "[train] Epoch: 43/50 Loss: 0.05600153229331732 Acc: 0.9912718204488777\n",
      "Execution time: 30.197142837\n",
      "\n"
     ]
    },
    {
     "name": "stderr",
     "output_type": "stream",
     "text": [
      "100%|██████████| 41/41 [00:30<00:00,  1.35it/s]\n"
     ]
    },
    {
     "name": "stdout",
     "output_type": "stream",
     "text": [
      "[train] Epoch: 44/50 Loss: 0.05959407355348368 Acc: 0.9900249376558603\n",
      "Execution time: 30.26646019000009\n",
      "\n"
     ]
    },
    {
     "name": "stderr",
     "output_type": "stream",
     "text": [
      "100%|██████████| 41/41 [00:30<00:00,  1.36it/s]\n"
     ]
    },
    {
     "name": "stdout",
     "output_type": "stream",
     "text": [
      "[train] Epoch: 45/50 Loss: 0.06095057767246875 Acc: 0.9900249376558603\n",
      "Execution time: 30.250772752000103\n",
      "\n",
      "Save model at /kaggle/working/save_dir/run/run_0/models/CNNTransformer-ucf101_epoch-44.pth.tar\n",
      "\n"
     ]
    },
    {
     "name": "stderr",
     "output_type": "stream",
     "text": [
      "100%|██████████| 13/13 [00:07<00:00,  1.73it/s]\n"
     ]
    },
    {
     "name": "stdout",
     "output_type": "stream",
     "text": [
      "[test] Epoch: 45/50 Loss: 0.25303300548694097 Acc: 0.94140625\n",
      "Execution time: 7.54289595399996\n",
      "\n"
     ]
    },
    {
     "name": "stderr",
     "output_type": "stream",
     "text": [
      "100%|██████████| 41/41 [00:30<00:00,  1.36it/s]\n"
     ]
    },
    {
     "name": "stdout",
     "output_type": "stream",
     "text": [
      "[train] Epoch: 46/50 Loss: 0.050765481285119145 Acc: 0.9925187032418953\n",
      "Execution time: 30.166521730000113\n",
      "\n"
     ]
    },
    {
     "name": "stderr",
     "output_type": "stream",
     "text": [
      "100%|██████████| 41/41 [00:30<00:00,  1.36it/s]\n"
     ]
    },
    {
     "name": "stdout",
     "output_type": "stream",
     "text": [
      "[train] Epoch: 47/50 Loss: 0.0715719473332241 Acc: 0.9850374064837905\n",
      "Execution time: 30.184015156999976\n",
      "\n"
     ]
    },
    {
     "name": "stderr",
     "output_type": "stream",
     "text": [
      "100%|██████████| 41/41 [00:30<00:00,  1.36it/s]\n"
     ]
    },
    {
     "name": "stdout",
     "output_type": "stream",
     "text": [
      "[train] Epoch: 48/50 Loss: 0.06387006938271689 Acc: 0.986284289276808\n",
      "Execution time: 30.092136799999935\n",
      "\n"
     ]
    },
    {
     "name": "stderr",
     "output_type": "stream",
     "text": [
      "100%|██████████| 41/41 [00:30<00:00,  1.35it/s]\n"
     ]
    },
    {
     "name": "stdout",
     "output_type": "stream",
     "text": [
      "[train] Epoch: 49/50 Loss: 0.06739722324205456 Acc: 0.9825436408977556\n",
      "Execution time: 30.37592338500008\n",
      "\n"
     ]
    },
    {
     "name": "stderr",
     "output_type": "stream",
     "text": [
      "100%|██████████| 41/41 [00:30<00:00,  1.34it/s]\n"
     ]
    },
    {
     "name": "stdout",
     "output_type": "stream",
     "text": [
      "[train] Epoch: 50/50 Loss: 0.06239057054970776 Acc: 0.9825436408977556\n",
      "Execution time: 30.637988066999924\n",
      "\n",
      "Save model at /kaggle/working/save_dir/run/run_0/models/CNNTransformer-ucf101_epoch-49.pth.tar\n",
      "\n"
     ]
    },
    {
     "name": "stderr",
     "output_type": "stream",
     "text": [
      "100%|██████████| 13/13 [00:07<00:00,  1.63it/s]\n"
     ]
    },
    {
     "name": "stdout",
     "output_type": "stream",
     "text": [
      "[test] Epoch: 50/50 Loss: 0.3000158936192747 Acc: 0.93359375\n",
      "Execution time: 7.970821962999935\n",
      "\n"
     ]
    },
    {
     "name": "stderr",
     "output_type": "stream",
     "text": [
      "Evaluating: 100%|██████████| 13/13 [00:08<00:00,  1.59it/s]\n"
     ]
    },
    {
     "name": "stdout",
     "output_type": "stream",
     "text": [
      "\n",
      "==================================================\n",
      "MODEL EVALUATION SUMMARY\n",
      "==================================================\n",
      "Test Loss: 0.2338\n",
      "Test Accuracy: 0.9414 (94.14%)\n",
      "F1 Score (Weighted): 0.9412\n",
      "Precision (Weighted): 0.9419\n",
      "Recall (Weighted): 0.9414\n",
      "Execution Time: 8.18 seconds\n",
      "\n",
      "Per-Class Metrics:\n",
      "--------------------------------------------------\n",
      "PlayingPiano:\n",
      "  Precision: 0.9200\n",
      "  Recall: 0.8519\n",
      "  F1-Score: 0.8846\n",
      "  Support: 27\n",
      "\n",
      "TaiChi:\n",
      "  Precision: 1.0000\n",
      "  Recall: 1.0000\n",
      "  F1-Score: 1.0000\n",
      "  Support: 30\n",
      "\n",
      "Swing:\n",
      "  Precision: 0.8696\n",
      "  Recall: 0.8696\n",
      "  F1-Score: 0.8696\n",
      "  Support: 23\n",
      "\n",
      "HorseRace:\n",
      "  Precision: 0.9231\n",
      "  Recall: 0.9600\n",
      "  F1-Score: 0.9412\n",
      "  Support: 25\n",
      "\n",
      "PlayingTabla:\n",
      "  Precision: 0.9310\n",
      "  Recall: 0.9643\n",
      "  F1-Score: 0.9474\n",
      "  Support: 28\n",
      "\n",
      "Mixing:\n",
      "  Precision: 0.9524\n",
      "  Recall: 0.9524\n",
      "  F1-Score: 0.9524\n",
      "  Support: 21\n",
      "\n",
      "Fencing:\n",
      "  Precision: 0.9565\n",
      "  Recall: 0.9565\n",
      "  F1-Score: 0.9565\n",
      "  Support: 23\n",
      "\n",
      "Basketball:\n",
      "  Precision: 1.0000\n",
      "  Recall: 0.9375\n",
      "  F1-Score: 0.9677\n",
      "  Support: 32\n",
      "\n",
      "Punch:\n",
      "  Precision: 0.9310\n",
      "  Recall: 1.0000\n",
      "  F1-Score: 0.9643\n",
      "  Support: 27\n",
      "\n",
      "Diving:\n",
      "  Precision: 0.9000\n",
      "  Recall: 0.9000\n",
      "  F1-Score: 0.9000\n",
      "  Support: 20\n",
      "\n"
     ]
    },
    {
     "data": {
      "image/png": "[encoded data removed]",
      "text/plain": [
       "<Figure size 1200x1000 with 2 Axes>"
      ]
     },
     "metadata": {},
     "output_type": "display_data"
    },
    {
     "data": {
      "text/plain": [
       "<Figure size 1400x800 with 0 Axes>"
      ]
     },
     "metadata": {},
     "output_type": "display_data"
    },
    {
     "data": {
      "image/png": "[encoded data removed]",
      "text/plain": [
       "<Figure size 640x480 with 1 Axes>"
      ]
     },
     "metadata": {},
     "output_type": "display_data"
    }
   ],
   "source": [
    "train_model(model, num_epochs = nEpochs)"
   ]
  },
  {
   "cell_type": "code",
   "execution_count": 19,
   "id": "d2e5199b",
   "metadata": {
    "execution": {
     "iopub.execute_input": "2025-04-29T17:06:43.154775Z",
     "iopub.status.busy": "2025-04-29T17:06:43.154081Z",
     "iopub.status.idle": "2025-04-29T17:06:43.158424Z",
     "shell.execute_reply": "2025-04-29T17:06:43.157851Z"
    },
    "papermill": {
     "duration": 0.104397,
     "end_time": "2025-04-29T17:06:43.159482",
     "exception": false,
     "start_time": "2025-04-29T17:06:43.055085",
     "status": "completed"
    },
    "tags": []
   },
   "outputs": [],
   "source": [
    "# !tensorboard --logdir=/kaggle/working/save_dir/run/run_2/models/Apr25_19-00-55_e8a416e980c9"
   ]
  },
  {
   "cell_type": "code",
   "execution_count": 20,
   "id": "569cb6c5",
   "metadata": {
    "execution": {
     "iopub.execute_input": "2025-04-29T17:06:43.356193Z",
     "iopub.status.busy": "2025-04-29T17:06:43.355898Z",
     "iopub.status.idle": "2025-04-29T17:06:43.650080Z",
     "shell.execute_reply": "2025-04-29T17:06:43.649491Z"
    },
    "papermill": {
     "duration": 0.394221,
     "end_time": "2025-04-29T17:06:43.651445",
     "exception": false,
     "start_time": "2025-04-29T17:06:43.257224",
     "status": "completed"
    },
    "tags": []
   },
   "outputs": [],
   "source": [
    "from tensorboard.backend.event_processing.event_accumulator import EventAccumulator\n",
    "import os\n",
    "import matplotlib.pyplot as plt\n",
    "import glob\n",
    "from datetime import datetime"
   ]
  },
  {
   "cell_type": "code",
   "execution_count": 21,
   "id": "0fa7fe52",
   "metadata": {
    "execution": {
     "iopub.execute_input": "2025-04-29T17:06:43.900815Z",
     "iopub.status.busy": "2025-04-29T17:06:43.900530Z",
     "iopub.status.idle": "2025-04-29T17:06:43.913329Z",
     "shell.execute_reply": "2025-04-29T17:06:43.912828Z"
    },
    "papermill": {
     "duration": 0.16385,
     "end_time": "2025-04-29T17:06:43.914355",
     "exception": false,
     "start_time": "2025-04-29T17:06:43.750505",
     "status": "completed"
    },
    "tags": []
   },
   "outputs": [],
   "source": [
    "# Load extension\n",
    "%load_ext tensorboard"
   ]
  },
  {
   "cell_type": "code",
   "execution_count": 22,
   "id": "69011729",
   "metadata": {
    "execution": {
     "iopub.execute_input": "2025-04-29T17:06:44.109694Z",
     "iopub.status.busy": "2025-04-29T17:06:44.109045Z",
     "iopub.status.idle": "2025-04-29T17:06:44.112304Z",
     "shell.execute_reply": "2025-04-29T17:06:44.111777Z"
    },
    "papermill": {
     "duration": 0.101523,
     "end_time": "2025-04-29T17:06:44.113306",
     "exception": false,
     "start_time": "2025-04-29T17:06:44.011783",
     "status": "completed"
    },
    "tags": []
   },
   "outputs": [],
   "source": [
    "# os.listdir(\"/kaggle/working/save_dir/run/run_1/models/Apr29_09-07-19_dfd9a178798b\")"
   ]
  },
  {
   "cell_type": "code",
   "execution_count": 23,
   "id": "5f8f5d3a",
   "metadata": {
    "execution": {
     "iopub.execute_input": "2025-04-29T17:06:44.309557Z",
     "iopub.status.busy": "2025-04-29T17:06:44.309294Z",
     "iopub.status.idle": "2025-04-29T17:06:44.313799Z",
     "shell.execute_reply": "2025-04-29T17:06:44.313265Z"
    },
    "papermill": {
     "duration": 0.102686,
     "end_time": "2025-04-29T17:06:44.314828",
     "exception": false,
     "start_time": "2025-04-29T17:06:44.212142",
     "status": "completed"
    },
    "tags": []
   },
   "outputs": [],
   "source": [
    "def find_latest_run(base_dir=\"/kaggle/working/save_dir/run\"):\n",
    "    \"\"\"Find the latest run directory based on timestamp in folder name.\"\"\"\n",
    "    # Find all run directories\n",
    "    run_dirs = glob.glob(os.path.join(base_dir, \"run_*\"))\n",
    "    \n",
    "    if not run_dirs:\n",
    "        raise FileNotFoundError(f\"No run directories found in {base_dir}\")\n",
    "    \n",
    "    # If there's only one run directory, use it\n",
    "    if len(run_dirs) == 1:\n",
    "        latest_run = run_dirs[0]\n",
    "    else:\n",
    "        # If there are multiple, find the latest one based on directory name\n",
    "        # Assuming directory names include run_1, run_2, etc.\n",
    "        latest_run = max(run_dirs, key=lambda x: int(os.path.basename(x).split('_')[1]))\n",
    "    \n",
    "    return latest_run"
   ]
  },
  {
   "cell_type": "code",
   "execution_count": 24,
   "id": "7bd3ed4e",
   "metadata": {
    "execution": {
     "iopub.execute_input": "2025-04-29T17:06:44.511864Z",
     "iopub.status.busy": "2025-04-29T17:06:44.511364Z",
     "iopub.status.idle": "2025-04-29T17:06:44.517674Z",
     "shell.execute_reply": "2025-04-29T17:06:44.516927Z"
    },
    "papermill": {
     "duration": 0.105733,
     "end_time": "2025-04-29T17:06:44.518832",
     "exception": false,
     "start_time": "2025-04-29T17:06:44.413099",
     "status": "completed"
    },
    "tags": []
   },
   "outputs": [],
   "source": [
    "def find_latest_event_file(run_dir):\n",
    "    \"\"\"Find the latest event file within the models directory.\"\"\"\n",
    "    # Find all models directories (they should contain date-based names)\n",
    "    model_dirs = glob.glob(os.path.join(run_dir, \"models\", \"*\"))\n",
    "    \n",
    "    if not model_dirs:\n",
    "        raise FileNotFoundError(f\"No model directories found in {run_dir}/models\")\n",
    "    \n",
    "    # Extract timestamps from directory names\n",
    "    # Assuming format like Apr29_09-07-19_dfd9a178798b\n",
    "    latest_model_dir = None\n",
    "    latest_timestamp = None\n",
    "    \n",
    "    for model_dir in model_dirs:\n",
    "        dir_name = os.path.basename(model_dir)\n",
    "        if '_' in dir_name:\n",
    "            try:\n",
    "                # Parse the date part (e.g., Apr29_09-07-19)\n",
    "                date_str = '_'.join(dir_name.split('_')[:2])\n",
    "                timestamp = datetime.strptime(date_str, \"%b%d_%H-%M-%S\")\n",
    "                \n",
    "                if latest_timestamp is None or timestamp > latest_timestamp:\n",
    "                    latest_timestamp = timestamp\n",
    "                    latest_model_dir = model_dir\n",
    "            except (ValueError, IndexError):\n",
    "                # If parsing fails, continue to the next directory\n",
    "                continue\n",
    "    \n",
    "    if latest_model_dir is None:\n",
    "        # If timestamp-based approach failed, just take the most recently modified directory\n",
    "        latest_model_dir = max(model_dirs, key=os.path.getmtime)\n",
    "    \n",
    "    # Find event file in the latest model directory\n",
    "    event_files = glob.glob(os.path.join(latest_model_dir, \"events.out.tfevents.*\"))\n",
    "    \n",
    "    if not event_files:\n",
    "        raise FileNotFoundError(f\"No event files found in {latest_model_dir}\")\n",
    "    \n",
    "    # If multiple event files exist, take the most recent one\n",
    "    latest_event_file = max(event_files, key=os.path.getmtime)\n",
    "    \n",
    "    return latest_event_file"
   ]
  },
  {
   "cell_type": "code",
   "execution_count": 25,
   "id": "7c0bc346",
   "metadata": {
    "execution": {
     "iopub.execute_input": "2025-04-29T17:06:44.716679Z",
     "iopub.status.busy": "2025-04-29T17:06:44.716393Z",
     "iopub.status.idle": "2025-04-29T17:06:44.723669Z",
     "shell.execute_reply": "2025-04-29T17:06:44.723118Z"
    },
    "papermill": {
     "duration": 0.107024,
     "end_time": "2025-04-29T17:06:44.724784",
     "exception": false,
     "start_time": "2025-04-29T17:06:44.617760",
     "status": "completed"
    },
    "tags": []
   },
   "outputs": [],
   "source": [
    "def plot_tensorboard_metrics(event_file):\n",
    "    \"\"\"Plot accuracy and loss curves from TensorBoard events file.\"\"\"\n",
    "    # Tags for metrics to extract\n",
    "    accuracy_tags = ['data/train_acc_epoch', 'data/val_acc_epoch', 'data/test_acc_epoch']\n",
    "    loss_tags = ['data/train_loss_epoch', 'data/val_loss_epoch', 'data/test_loss_epoch']\n",
    "    \n",
    "    # Load events\n",
    "    ea = EventAccumulator(event_file)\n",
    "    ea.Reload()  # Load everything\n",
    "    \n",
    "    available_tags = ea.Tags()['scalars']\n",
    "    print(f\"Available tags: {available_tags}\")\n",
    "    \n",
    "    # Create a figure with two subplots\n",
    "    fig, (ax1, ax2) = plt.subplots(1, 2, figsize=(15, 6))\n",
    "    \n",
    "    # Plot accuracy curves\n",
    "    ax1.set_title('Accuracy Curves')\n",
    "    ax1.set_xlabel('Epoch')\n",
    "    ax1.set_ylabel('Accuracy')\n",
    "    \n",
    "    for tag in accuracy_tags:\n",
    "        if tag in available_tags:\n",
    "            events = ea.Scalars(tag)\n",
    "            steps = [e.step for e in events]\n",
    "            values = [e.value for e in events]\n",
    "            label = tag.split('/')[-1].replace('_epoch', '').capitalize()\n",
    "            ax1.plot(steps, values, marker='o', label=label)\n",
    "        else:\n",
    "            print(f\"Tag not found: {tag}\")\n",
    "    \n",
    "    ax1.legend()\n",
    "    ax1.grid(True)\n",
    "    \n",
    "    # Plot loss curves\n",
    "    ax2.set_title('Loss Curves')\n",
    "    ax2.set_xlabel('Epoch')\n",
    "    ax2.set_ylabel('Loss')\n",
    "    \n",
    "    for tag in loss_tags:\n",
    "        if tag in available_tags:\n",
    "            events = ea.Scalars(tag)\n",
    "            steps = [e.step for e in events]\n",
    "            values = [e.value for e in events]\n",
    "            label = tag.split('/')[-1].replace('_epoch', '').capitalize()\n",
    "            ax2.plot(steps, values, marker='o', label=label)\n",
    "        else:\n",
    "            print(f\"Tag not found: {tag}\")\n",
    "    \n",
    "    ax2.legend()\n",
    "    ax2.grid(True)\n",
    "    \n",
    "    plt.tight_layout()\n",
    "    plt.show()\n",
    "    \n",
    "    return fig"
   ]
  },
  {
   "cell_type": "code",
   "execution_count": 26,
   "id": "94941444",
   "metadata": {
    "execution": {
     "iopub.execute_input": "2025-04-29T17:06:44.925341Z",
     "iopub.status.busy": "2025-04-29T17:06:44.925069Z",
     "iopub.status.idle": "2025-04-29T17:06:57.469156Z",
     "shell.execute_reply": "2025-04-29T17:06:57.468476Z"
    },
    "papermill": {
     "duration": 12.647016,
     "end_time": "2025-04-29T17:06:57.471282",
     "exception": false,
     "start_time": "2025-04-29T17:06:44.824266",
     "status": "completed"
    },
    "tags": []
   },
   "outputs": [
    {
     "name": "stdout",
     "output_type": "stream",
     "text": [
      "Found latest run directory: /kaggle/working/save_dir/run/run_0\n",
      "Found latest event file: /kaggle/working/save_dir/run/run_0/models/Apr29_16-39-17_eef40494675b/events.out.tfevents.1745944757.eef40494675b\n"
     ]
    },
    {
     "name": "stderr",
     "output_type": "stream",
     "text": [
      "2025-04-29 17:06:46.443521: E external/local_xla/xla/stream_executor/cuda/cuda_fft.cc:477] Unable to register cuFFT factory: Attempting to register factory for plugin cuFFT when one has already been registered\n",
      "WARNING: All log messages before absl::InitializeLog() is called are written to STDERR\n",
      "E0000 00:00:1745946406.634974      19 cuda_dnn.cc:8310] Unable to register cuDNN factory: Attempting to register factory for plugin cuDNN when one has already been registered\n",
      "E0000 00:00:1745946406.693491      19 cuda_blas.cc:1418] Unable to register cuBLAS factory: Attempting to register factory for plugin cuBLAS when one has already been registered\n"
     ]
    },
    {
     "name": "stdout",
     "output_type": "stream",
     "text": [
      "Available tags: ['data/train_loss_epoch', 'data/train_acc_epoch', 'data/test_loss_epoch', 'data/test_acc_epoch']\n",
      "Tag not found: data/val_acc_epoch\n",
      "Tag not found: data/val_loss_epoch\n"
     ]
    },
    {
     "data": {
      "image/png": "[encoded data removed]",
      "text/plain": [
       "<Figure size 1500x600 with 2 Axes>"
      ]
     },
     "metadata": {},
     "output_type": "display_data"
    },
    {
     "data": {
      "image/png": "[encoded data removed]",
      "text/plain": [
       "<Figure size 1500x600 with 2 Axes>"
      ]
     },
     "execution_count": 26,
     "metadata": {},
     "output_type": "execute_result"
    }
   ],
   "source": [
    "# Find the latest run directory\n",
    "latest_run = find_latest_run()\n",
    "print(f\"Found latest run directory: {latest_run}\")\n",
    "\n",
    "# Find the latest event file\n",
    "latest_event_file = find_latest_event_file(latest_run)\n",
    "print(f\"Found latest event file: {latest_event_file}\")\n",
    "\n",
    "# Plot the metrics\n",
    "plot_tensorboard_metrics(latest_event_file)"
   ]
  },
  {
   "cell_type": "code",
   "execution_count": null,
   "id": "4d238407",
   "metadata": {
    "papermill": {
     "duration": 0.102012,
     "end_time": "2025-04-29T17:06:57.683083",
     "exception": false,
     "start_time": "2025-04-29T17:06:57.581071",
     "status": "completed"
    },
    "tags": []
   },
   "outputs": [],
   "source": []
  }
 ],
 "metadata": {
  "kaggle": {
   "accelerator": "gpu",
   "dataSources": [
    {
     "datasetId": 7249854,
     "sourceId": 11563016,
     "sourceType": "datasetVersion"
    }
   ],
   "dockerImageVersionId": 31011,
   "isGpuEnabled": true,
   "isInternetEnabled": true,
   "language": "python",
   "sourceType": "notebook"
  },
  "kernelspec": {
   "display_name": "Python 3",
   "language": "python",
   "name": "python3"
  },
  "language_info": {
   "codemirror_mode": {
    "name": "ipython",
    "version": 3
   },
   "file_extension": ".py",
   "mimetype": "text/x-python",
   "name": "python",
   "nbconvert_exporter": "python",
   "pygments_lexer": "ipython3",
   "version": "3.11.11"
  },
  "papermill": {
   "default_parameters": {},
   "duration": 1721.036745,
   "end_time": "2025-04-29T17:07:00.906457",
   "environment_variables": {},
   "exception": null,
   "input_path": "__notebook__.ipynb",
   "output_path": "__notebook__.ipynb",
   "parameters": {},
   "start_time": "2025-04-29T16:38:19.869712",
   "version": "2.6.0"
  }
 },
 "nbformat": 4,
 "nbformat_minor": 5
}
